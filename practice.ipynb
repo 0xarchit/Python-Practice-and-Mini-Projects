{
 "cells": [
  {
   "cell_type": "code",
   "execution_count": null,
   "metadata": {},
   "outputs": [],
   "source": [
    "class Student:\n",
    "    def __init__(self, name):\n",
    "        self.name = name\n",
    "        self.courses = []\n",
    "    \n",
    "    def add_course(self, credit, grade):\n",
    "        self.courses.append((credit, grade))\n",
    "    \n",
    "    # Implement this method\n",
    "    def calculate_gpa(self):\n",
    "        \n",
    "        pass\n",
    "\n",
    "# Test Input\n",
    "student = Student(\"Alice\")\n",
    "student.add_course(3, 'A')\n",
    "student.add_course(4, 'B')\n",
    "print(f\"{student.calculate_gpa():.2f}\")  # Expected Output: 3.14"
   ]
  }
 ],
 "metadata": {
  "kernelspec": {
   "display_name": "Python 3",
   "language": "python",
   "name": "python3"
  },
  "language_info": {
   "name": "python",
   "version": "3.13.2"
  }
 },
 "nbformat": 4,
 "nbformat_minor": 2
}
