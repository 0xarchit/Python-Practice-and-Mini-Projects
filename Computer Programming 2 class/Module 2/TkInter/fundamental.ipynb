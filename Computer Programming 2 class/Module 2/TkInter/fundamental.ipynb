{
 "cells": [
  {
   "cell_type": "code",
   "execution_count": 2,
   "metadata": {},
   "outputs": [],
   "source": [
    "# tcl = tool command language\n",
    "# tkinter = tool kit interface\n",
    "# tkinter is a python binding to the tcl/tk toolkit\n",
    "\n",
    "import tkinter as tk"
   ]
  },
  {
   "cell_type": "code",
   "execution_count": 5,
   "metadata": {},
   "outputs": [
    {
     "name": "stdout",
     "output_type": "stream",
     "text": [
      "Hello World!\n",
      "Hello World!\n"
     ]
    }
   ],
   "source": [
    "root = tk.Tk()\n",
    "root.title(\"Hello World!\")\n",
    "root.geometry(\"600x400\")\n",
    "\n",
    "def hello():\n",
    "    print(\"Hello World!\")\n",
    "\n",
    "tk.Button(root, text=\"Hello World!\", bg='black', fg='white', command=hello).pack()\n",
    "\n",
    "\n",
    "root.mainloop()"
   ]
  },
  {
   "cell_type": "code",
   "execution_count": null,
   "metadata": {},
   "outputs": [],
   "source": [
    "import tkinter as tk\n",
    "\n",
    "class CreateApp:\n",
    "    def __init__(self, root):\n",
    "        self.root = root\n",
    "        self.root.title(\"Toggle Button\")\n",
    "        self.root.geometry(\"300x200\")\n",
    "        self.root.resizable(False, False)\n",
    "        self.app()\n",
    "    \n",
    "    def app(self):\n",
    "        self.bt = tk.Button(self.root, text=\"True\", command=self.action).pack(pady=50)\n",
    "\n",
    "    def action(self):\n",
    "        if self.bt[\"text\"] == \"True\":\n",
    "            self.bt.config(text=\"False\", bg=\"red\", fg=\"white\")\n",
    "        else:\n",
    "            self.bt.config(text=\"True\", bg=\"green\", fg=\"white\")\n",
    "\n",
    "# main\n",
    "if __name__ == \"__main__\":\n",
    "    root = tk.Tk()\n",
    "    app = CreateApp(root)\n",
    "    root.mainloop()"
   ]
  },
  {
   "cell_type": "code",
   "execution_count": null,
   "metadata": {},
   "outputs": [
    {
     "data": {
      "text/plain": [
       "False"
      ]
     },
     "execution_count": 2,
     "metadata": {},
     "output_type": "execute_result"
    }
   ],
   "source": [
    "def is_prime(num):\n",
    "        if num < 2:\n",
    "            return False\n",
    "        for i in range(2, num):\n",
    "            if num % i == 0:\n",
    "                return False\n",
    "        return True"
   ]
  }
 ],
 "metadata": {
  "kernelspec": {
   "display_name": ".venv",
   "language": "python",
   "name": "python3"
  },
  "language_info": {
   "codemirror_mode": {
    "name": "ipython",
    "version": 3
   },
   "file_extension": ".py",
   "mimetype": "text/x-python",
   "name": "python",
   "nbconvert_exporter": "python",
   "pygments_lexer": "ipython3",
   "version": "3.13.2"
  }
 },
 "nbformat": 4,
 "nbformat_minor": 2
}
