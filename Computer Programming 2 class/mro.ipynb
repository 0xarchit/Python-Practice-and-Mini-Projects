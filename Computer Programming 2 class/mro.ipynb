{
 "cells": [
  {
   "cell_type": "code",
   "execution_count": 3,
   "metadata": {},
   "outputs": [
    {
     "name": "stdout",
     "output_type": "stream",
     "text": [
      "Process in B\n",
      "[<class '__main__.D'>, <class '__main__.B'>, <class '__main__.C'>, <class '__main__.A'>, <class 'object'>]\n"
     ]
    }
   ],
   "source": [
    "class A:\n",
    "    def process(self):\n",
    "        print(\"Process in A\")\n",
    "\n",
    "class B(A):\n",
    "    def process(self):\n",
    "        print(\"Process in B\")\n",
    "\n",
    "class C(A):\n",
    "    def process(self):\n",
    "        print(\"Process in C\")\n",
    "\n",
    "class D(B, C):\n",
    "    pass\n",
    "\n",
    "d = D()\n",
    "d.process()\n",
    "\n",
    "print(D.mro())"
   ]
  },
  {
   "cell_type": "code",
   "execution_count": 4,
   "metadata": {},
   "outputs": [
    {
     "name": "stdout",
     "output_type": "stream",
     "text": [
      "Process in C\n",
      "Process in A\n",
      "[<class '__main__.D'>, <class '__main__.B'>, <class '__main__.C'>, <class '__main__.A'>, <class 'object'>]\n"
     ]
    }
   ],
   "source": [
    "class A:\n",
    "    def process(self):\n",
    "        print(\"Process in A\")\n",
    "\n",
    "class B(A):\n",
    "    # def process(self):\n",
    "    #     print(\"Process in B\")\n",
    "    pass\n",
    "\n",
    "class C(A):\n",
    "    def process(self):\n",
    "        print(\"Process in C\")\n",
    "        super().process()\n",
    "\n",
    "class D(B, C):\n",
    "    pass\n",
    "\n",
    "d = D()\n",
    "d.process()\n",
    "\n",
    "print(D.mro())"
   ]
  },
  {
   "cell_type": "code",
   "execution_count": 6,
   "metadata": {},
   "outputs": [
    {
     "name": "stdout",
     "output_type": "stream",
     "text": [
      "Process in D\n",
      "Process in B\n",
      "Process in C\n",
      "Process in A\n",
      "[<class '__main__.D'>, <class '__main__.B'>, <class '__main__.C'>, <class '__main__.A'>, <class 'object'>]\n"
     ]
    }
   ],
   "source": [
    "class A:\n",
    "    def process(self):\n",
    "        print(\"Process in A\")\n",
    "\n",
    "class B(A):\n",
    "    def process(self):\n",
    "        print(\"Process in B\")\n",
    "        super().process()\n",
    "\n",
    "class C(A):\n",
    "    def process(self):\n",
    "        print(\"Process in C\")\n",
    "        super().process()\n",
    "\n",
    "class D(B, C):\n",
    "    def process(self):\n",
    "        print(\"Process in D\")\n",
    "        super().process()\n",
    "\n",
    "d = D()\n",
    "d.process()\n",
    "\n",
    "print(D.mro())"
   ]
  },
  {
   "cell_type": "code",
   "execution_count": 9,
   "metadata": {},
   "outputs": [
    {
     "name": "stdout",
     "output_type": "stream",
     "text": [
      "Process in D\n",
      "Process in B\n",
      "Process in A1\n",
      "Process in C\n",
      "Process in A2\n",
      "<class '__main__.D'> <class '__main__.B'> <class '__main__.A1'> <class '__main__.C'> <class '__main__.A2'> <class 'object'>\n"
     ]
    }
   ],
   "source": [
    "class A1:\n",
    "    def process(self):\n",
    "        print(\"Process in A1\")\n",
    "        super().process()        \n",
    "\n",
    "class A2:\n",
    "    def process(self):\n",
    "        print(\"Process in A2\")\n",
    "\n",
    "class B(A1):\n",
    "    def process(self):\n",
    "        print(\"Process in B\")\n",
    "        super().process()\n",
    "\n",
    "class C(A2):\n",
    "    def process(self):\n",
    "        print(\"Process in C\")\n",
    "        super().process()\n",
    "\n",
    "class D(B, C):\n",
    "    def process(self):\n",
    "        print(\"Process in D\")\n",
    "        super().process()\n",
    "\n",
    "d = D()\n",
    "d.process()\n",
    "\n",
    "print(*D.mro())"
   ]
  }
 ],
 "metadata": {
  "kernelspec": {
   "display_name": "Python 3",
   "language": "python",
   "name": "python3"
  },
  "language_info": {
   "codemirror_mode": {
    "name": "ipython",
    "version": 3
   },
   "file_extension": ".py",
   "mimetype": "text/x-python",
   "name": "python",
   "nbconvert_exporter": "python",
   "pygments_lexer": "ipython3",
   "version": "3.13.1"
  }
 },
 "nbformat": 4,
 "nbformat_minor": 2
}
