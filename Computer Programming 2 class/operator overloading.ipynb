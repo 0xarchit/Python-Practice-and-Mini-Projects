{
 "cells": [
  {
   "cell_type": "code",
   "execution_count": 1,
   "metadata": {},
   "outputs": [],
   "source": [
    "#operator overloading"
   ]
  },
  {
   "cell_type": "code",
   "execution_count": 39,
   "metadata": {},
   "outputs": [
    {
     "name": "stdout",
     "output_type": "stream",
     "text": [
      "Point(5, 10) <class '__main__.Point'>\n"
     ]
    }
   ],
   "source": [
    "class Point:\n",
    "    def __init__(self, x, y):\n",
    "        self.x = x\n",
    "        self.y = y\n",
    "    def __add__(self, other):\n",
    "        return Point(self.x + other.x, self.y + other.y)\n",
    "    def __repr__(self):\n",
    "        return f\"Point({self.x}, {self.y})\"\n",
    "\n",
    "a = Point(2,4)\n",
    "b = Point(3,6)\n",
    "\n",
    "c = a + b\n",
    "\n",
    "print(c, type(c))"
   ]
  },
  {
   "cell_type": "code",
   "execution_count": 38,
   "metadata": {},
   "outputs": [
    {
     "name": "stdout",
     "output_type": "stream",
     "text": [
      "a: 20 type: <class '__main__.custom_number'>\n",
      "b: 10 type: <class '__main__.custom_number'>\n",
      "add: 30 type: <class '__main__.custom_number'>\n",
      "sub: 10 type: <class '__main__.custom_number'>\n",
      "mul: 200 type: <class '__main__.custom_number'>\n",
      "div: 2.0 type: <class '__main__.custom_number'>\n",
      "floor div: 2 type: <class '__main__.custom_number'>\n",
      "gt: True type: <class '__main__.custom_number'>\n",
      "lt: False type: <class '__main__.custom_number'>\n"
     ]
    }
   ],
   "source": [
    "class custom_number:\n",
    "    def __init__(self, value=0):\n",
    "        self.value = value\n",
    "\n",
    "    def __str__(self):\n",
    "        return f'{self.value}'\n",
    "    \n",
    "    def __add__(self, other):\n",
    "        if isinstance(other, custom_number):\n",
    "            return custom_number(self.value + other.value)\n",
    "        else:\n",
    "            return custom_number(self.value + other)\n",
    "        \n",
    "    def __sub__(self, other):\n",
    "        if isinstance(other, custom_number):\n",
    "            return custom_number(self.value - other.value)\n",
    "        else:\n",
    "            return custom_number(self.value - other)\n",
    "\n",
    "    def __mul__(self, other):\n",
    "        if isinstance(other, custom_number):\n",
    "            return custom_number(self.value * other.value)\n",
    "        else:\n",
    "            return custom_number(self.value * other)\n",
    "    \n",
    "    def __floordiv__(self, other):\n",
    "        if isinstance(other, custom_number):\n",
    "            if other.value != 0:\n",
    "                return custom_number(self.value // other.value)\n",
    "            else:\n",
    "                return \"Cannot divide by zero\"\n",
    "        else:\n",
    "            if other != 0:\n",
    "                return custom_number(self.value // other)\n",
    "            else:\n",
    "                return \"Cannot divide by zero\"\n",
    "\n",
    "    def __truediv__(self, other):\n",
    "        if isinstance(other, custom_number):\n",
    "            if other.value != 0:\n",
    "                return custom_number(self.value / other.value)\n",
    "            else:\n",
    "                return \"Cannot divide by zero\"\n",
    "        else:\n",
    "            if other != 0:\n",
    "                return custom_number(self.value / other)\n",
    "            else:\n",
    "                return \"Cannot divide by zero\"\n",
    "            \n",
    "    def __gt__(self, other):\n",
    "        if isinstance(other, custom_number):\n",
    "            return custom_number(self.value > other.value)\n",
    "        else:\n",
    "            return custom_number(self.value > other)\n",
    "\n",
    "    def __lt__(self, other):\n",
    "        if isinstance(other, custom_number):\n",
    "            return custom_number(self.value < other.value)\n",
    "        else:\n",
    "            return custom_number(self.value < other)\n",
    "\n",
    "\n",
    "\n",
    "a = custom_number(20)\n",
    "b = custom_number(10)\n",
    "add = a+b\n",
    "sub = a-b\n",
    "mul = a*b\n",
    "div = a/b\n",
    "fdiv = a//b\n",
    "gt = a>b\n",
    "lt = a<b\n",
    "\n",
    "print(f\"a: {a} type: {type(a)}\")\n",
    "print(f\"b: {b} type: {type(b)}\")\n",
    "print(f\"add: {add} type: {type(add)}\")\n",
    "print(f\"sub: {sub} type: {type(sub)}\")\n",
    "print(f\"mul: {mul} type: {type(mul)}\")\n",
    "print(f\"div: {div} type: {type(div)}\")\n",
    "print(f\"floor div: {fdiv} type: {type(fdiv)}\")\n",
    "print(f\"gt: {gt} type: {type(gt)}\")\n",
    "print(f\"lt: {lt} type: {type(lt)}\")"
   ]
  }
 ],
 "metadata": {
  "kernelspec": {
   "display_name": "Python 3",
   "language": "python",
   "name": "python3"
  },
  "language_info": {
   "codemirror_mode": {
    "name": "ipython",
    "version": 3
   },
   "file_extension": ".py",
   "mimetype": "text/x-python",
   "name": "python",
   "nbconvert_exporter": "python",
   "pygments_lexer": "ipython3",
   "version": "3.13.1"
  }
 },
 "nbformat": 4,
 "nbformat_minor": 2
}
