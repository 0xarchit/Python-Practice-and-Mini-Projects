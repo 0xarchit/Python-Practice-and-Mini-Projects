{
 "cells": [
  {
   "cell_type": "code",
   "execution_count": 12,
   "metadata": {},
   "outputs": [
    {
     "name": "stdout",
     "output_type": "stream",
     "text": [
      "20\n",
      "10\n"
     ]
    }
   ],
   "source": [
    "class Sample:\n",
    "    # def __str__(self):\n",
    "    #     # repr vs str\n",
    "    #     return \"%%\"\n",
    "    def __init__(self):\n",
    "        # print(\"Sample object created\")\n",
    "        # print(self)\n",
    "        self.a = 10\n",
    "    def disp(self):\n",
    "        return self.a\n",
    "    def inc(self):\n",
    "        self.a += 1\n",
    "\n",
    "obj1 = Sample()\n",
    "obj2 = Sample()\n",
    "\n",
    "obj1.a += 10\n",
    "print(obj1.a)\n",
    "print(obj2.a)\n",
    "\n",
    "# print(obj1)\n",
    "# print(obj2)\n",
    "# print(type(obj1))"
   ]
  },
  {
   "cell_type": "code",
   "execution_count": 7,
   "metadata": {},
   "outputs": [
    {
     "name": "stdout",
     "output_type": "stream",
     "text": [
      "68\n"
     ]
    }
   ],
   "source": [
    "\n",
    "\n",
    "class calc:\n",
    "    def add(a, b):\n",
    "        return a + b\n",
    "    def sub(a, b):\n",
    "        return a - b\n",
    "\n",
    "# main code\n",
    "num1 = 23\n",
    "num2 = 45\n",
    "obj = calc()\n",
    "re = obj.add(num1, num2)\n",
    "print(re)\n",
    "\n"
   ]
  },
  {
   "cell_type": "code",
   "execution_count": null,
   "metadata": {},
   "outputs": [],
   "source": []
  }
 ],
 "metadata": {
  "kernelspec": {
   "display_name": "Python 3",
   "language": "python",
   "name": "python3"
  },
  "language_info": {
   "codemirror_mode": {
    "name": "ipython",
    "version": 3
   },
   "file_extension": ".py",
   "mimetype": "text/x-python",
   "name": "python",
   "nbconvert_exporter": "python",
   "pygments_lexer": "ipython3",
   "version": "3.13.0"
  }
 },
 "nbformat": 4,
 "nbformat_minor": 2
}
