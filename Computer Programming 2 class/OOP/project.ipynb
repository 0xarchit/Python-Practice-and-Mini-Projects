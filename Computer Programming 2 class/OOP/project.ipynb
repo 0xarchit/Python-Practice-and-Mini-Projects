{
 "cells": [
  {
   "cell_type": "markdown",
   "metadata": {},
   "source": [
    "Beginner-Friendly Menu-Driven OOP Programs\n",
    "These problems are tailored for beginners to get comfortable with writing menu-driven programs and understanding basic Object-Oriented Programming concepts."
   ]
  },
  {
   "cell_type": "markdown",
   "metadata": {},
   "source": [
    "Problem 1: Simple Calculator\n",
    "Scenario:\n",
    "Create a menu-driven calculator program that allows the user to perform basic arithmetic operations like addition, subtraction, multiplication, and division.\n",
    "\n",
    "Menu Options:\n",
    "\n",
    "Addition\n",
    "Subtraction\n",
    "Multiplication\n",
    "Division\n",
    "Exit\n",
    "Expected Features:\n",
    "\n",
    "Create a class Calculator with methods for each operation.\n",
    "Use instance methods to perform calculations.\n",
    "Handle division errors gracefully (e.g., division by zero)."
   ]
  },
  {
   "cell_type": "code",
   "execution_count": 4,
   "metadata": {},
   "outputs": [
    {
     "name": "stdout",
     "output_type": "stream",
     "text": [
      "1. Addition \n",
      " 2. Subtraction \n",
      " 3. Multiplication \n",
      " 4. Division \n",
      " 5. Exit\n",
      "Result:  2.0\n",
      "1. Addition \n",
      " 2. Subtraction \n",
      " 3. Multiplication \n",
      " 4. Division \n",
      " 5. Exit\n",
      "Exiting the program.\n"
     ]
    }
   ],
   "source": [
    "class calc:\n",
    "    def __init__(self, num1, num2,):\n",
    "        self.num1 = num1\n",
    "        self.num2 = num2\n",
    "    def add(self, num1, num2):\n",
    "        return num1 + num2\n",
    "    def subtract(self, num1, num2):\n",
    "        return num1 - num2\n",
    "    def multiply(self, num1, num2):\n",
    "        return num1 * num2\n",
    "    def divide(self, num1, num2):\n",
    "        if num2 != 0:\n",
    "            return num1 / num2\n",
    "        else:\n",
    "            return \"Error: Division by zero is not allowed\"\n",
    "\n",
    "while True:\n",
    "    print(\"1. Addition \\n 2. Subtraction \\n 3. Multiplication \\n 4. Division \\n 5. Exit\")\n",
    "    choice = int(input(\"Enter your choice(1-5): \"))\n",
    "    if choice == 1:\n",
    "        num1 = float(input(\"Enter first number: \"))\n",
    "        num2 = float(input(\"Enter second number: \"))\n",
    "        calculator = calc(num1, num2)\n",
    "        print(\"Result: \", calculator.add(num1, num2))\n",
    "    elif choice == 2:\n",
    "        num1 = float(input(\"Enter first number: \"))\n",
    "        num2 = float(input(\"Enter second number: \"))\n",
    "        calculator = calc(num1, num2)\n",
    "        print(\"Result: \", calculator.subtract(num1, num2))\n",
    "    elif choice == 3:\n",
    "        num1 = float(input(\"Enter first number: \"))\n",
    "        num2 = float(input(\"Enter second number: \"))\n",
    "        calculator = calc(num1, num2)\n",
    "        print(\"Result: \", calculator.multiply(num1, num2))\n",
    "    elif choice == 4:\n",
    "        num1 = float(input(\"Enter first number: \"))\n",
    "        num2 = float(input(\"Enter second number: \"))\n",
    "        calculator = calc(num1, num2)\n",
    "        print(\"Result: \", calculator.divide(num1, num2))\n",
    "    elif choice == 5:\n",
    "        print(\"Exiting the program.\")\n",
    "        break\n",
    "    else:\n",
    "        print(\"Invalid choice. Please choose a valid option.\")"
   ]
  },
  {
   "cell_type": "markdown",
   "metadata": {},
   "source": [
    "Problem 2: Temperature Converter\n",
    "Scenario:\n",
    "Design a program to convert temperatures between Celsius, Fahrenheit, and Kelvin. The user can input a temperature in one scale and convert it to the other two.\n",
    "\n",
    "Menu Options:\n",
    "\n",
    "Convert Celsius to Fahrenheit and Kelvin\n",
    "Convert Fahrenheit to Celsius and Kelvin\n",
    "Convert Kelvin to Celsius and Fahrenheit\n",
    "Exit\n",
    "Expected Features:\n",
    "\n",
    "Create a class TemperatureConverter with methods for conversions.\n",
    "Use formulas:\n",
    "Celsius to Fahrenheit: ( F = C \\times \\frac{9}{5} + 32 )\n",
    "Celsius to Kelvin: ( K = C + 273.15 )\n",
    "Reverse conversions accordingly."
   ]
  },
  {
   "cell_type": "code",
   "execution_count": 5,
   "metadata": {},
   "outputs": [
    {
     "name": "stdout",
     "output_type": "stream",
     "text": [
      "Temperature Converter Menu:\n",
      "1. Convert Celsius to Fahrenheit and Kelvin\n",
      "2. Convert Fahrenheit to Celsius and Kelvin\n",
      "3. Convert Kelvin to Celsius and Fahrenheit\n",
      "4. Exit\n",
      "69.0K is equal to -204.14999999999998°C and -335.46999999999997°F\n",
      "Temperature Converter Menu:\n",
      "1. Convert Celsius to Fahrenheit and Kelvin\n",
      "2. Convert Fahrenheit to Celsius and Kelvin\n",
      "3. Convert Kelvin to Celsius and Fahrenheit\n",
      "4. Exit\n",
      "Invalid choice. Please try again.\n",
      "Temperature Converter Menu:\n",
      "1. Convert Celsius to Fahrenheit and Kelvin\n",
      "2. Convert Fahrenheit to Celsius and Kelvin\n",
      "3. Convert Kelvin to Celsius and Fahrenheit\n",
      "4. Exit\n"
     ]
    }
   ],
   "source": [
    "class TemperatureConverter:\n",
    "    def __init__(self):\n",
    "        pass\n",
    "\n",
    "    def celsius_to_fahrenheit(self, celsius):\n",
    "        return celsius * 9/5 + 32\n",
    "\n",
    "    def celsius_to_kelvin(self, celsius):\n",
    "        return celsius + 273.15\n",
    "\n",
    "    def fahrenheit_to_celsius(self, fahrenheit):\n",
    "        return (fahrenheit - 32) * 5/9\n",
    "\n",
    "    def fahrenheit_to_kelvin(self, fahrenheit):\n",
    "        return (fahrenheit - 32) * 5/9 + 273.15\n",
    "\n",
    "    def kelvin_to_celsius(self, kelvin):\n",
    "        return kelvin - 273.15\n",
    "\n",
    "    def kelvin_to_fahrenheit(self, kelvin):\n",
    "        return (kelvin - 273.15) * 9/5 + 32\n",
    "\n",
    "\n",
    "converter = TemperatureConverter()\n",
    "while True:\n",
    "    print(\"Temperature Converter Menu:\")\n",
    "    print(\"1. Convert Celsius to Fahrenheit and Kelvin\")\n",
    "    print(\"2. Convert Fahrenheit to Celsius and Kelvin\")\n",
    "    print(\"3. Convert Kelvin to Celsius and Fahrenheit\")\n",
    "    print(\"4. Exit\")\n",
    "    choice = input(\"Enter your choice: \")\n",
    "    if choice == \"1\":\n",
    "        celsius = float(input(\"Enter temperature in Celsius: \"))\n",
    "        print(f\"{celsius}°C is equal to {converter.celsius_to_fahrenheit(celsius)}°F and {converter.celsius_to_kelvin(celsius)}K\")\n",
    "    elif choice == \"2\":\n",
    "        fahrenheit = float(input(\"Enter temperature in Fahrenheit: \"))\n",
    "        print(f\"{fahrenheit}°F is equal to {converter.fahrenheit_to_celsius(fahrenheit)}°C and {converter.fahrenheit_to_kelvin(fahrenheit)}K\")\n",
    "    elif choice == \"3\":\n",
    "        kelvin = float(input(\"Enter temperature in Kelvin: \"))\n",
    "        print(f\"{kelvin}K is equal to {converter.kelvin_to_celsius(kelvin)}°C and {converter.kelvin_to_fahrenheit(kelvin)}°F\")\n",
    "    elif choice == \"4\":\n",
    "         break\n",
    "    else:\n",
    "        print(\"Invalid choice. Please try again.\")\n"
   ]
  },
  {
   "cell_type": "markdown",
   "metadata": {},
   "source": [
    "Problem 3: Number Properties Checker\n",
    "Scenario:\n",
    "Write a program to check various properties of a number. The user can input a number and check if it is even/odd, prime, or find its factorial.\n",
    "\n",
    "Menu Options:\n",
    "\n",
    "Check if the number is even or odd\n",
    "Check if the number is prime\n",
    "Find the factorial of the number\n",
    "Exit\n",
    "Expected Features:\n",
    "\n",
    "Create a class NumberProperties with methods for each property check.\n",
    "Use a constructor to initialize the number.\n",
    "Handle edge cases for prime and factorial calculations (e.g., negative numbers, zero)."
   ]
  },
  {
   "cell_type": "code",
   "execution_count": null,
   "metadata": {},
   "outputs": [],
   "source": []
  },
  {
   "cell_type": "markdown",
   "metadata": {},
   "source": [
    "Problem 4: Simple Bank Account Manager\n",
    "Scenario:\n",
    "Develop a menu-driven program to simulate a simple bank account management system. Users can check their balance, deposit money, and withdraw money.\n",
    "\n",
    "Menu Options:\n",
    "\n",
    "Check Balance\n",
    "Deposit Money\n",
    "Withdraw Money\n",
    "Exit\n",
    "Expected Features:\n",
    "\n",
    "Create a class BankAccount with attributes account_holder_name, balance, and methods for each operation.\n",
    "Use a constructor to initialize the account holder’s name and starting balance.\n",
    "Ensure proper validation (e.g., withdrawal amount should not exceed balance).\n",
    "Display appropriate messages for invalid actions."
   ]
  },
  {
   "cell_type": "code",
   "execution_count": null,
   "metadata": {},
   "outputs": [],
   "source": []
  },
  {
   "cell_type": "markdown",
   "metadata": {},
   "source": [
    "Problem 5: Basic Student Management System\n",
    "Scenario:\n",
    "Create a program to manage basic student information, including adding a student, displaying details, and searching for a student by roll number.\n",
    "\n",
    "Menu Options:\n",
    "\n",
    "Add a Student\n",
    "Display All Students\n",
    "Search for a Student by Roll Number\n",
    "Exit\n",
    "Expected Features:\n",
    "\n",
    "Create a class Student with attributes like roll_number, name, and marks.\n",
    "Use a list to store multiple Student objects.\n",
    "Provide methods to add a new student, display details of all students, and search for a student by roll number.\n",
    "Include input validation and handle cases like duplicate roll numbers."
   ]
  }
 ],
 "metadata": {
  "kernelspec": {
   "display_name": "Python 3",
   "language": "python",
   "name": "python3"
  },
  "language_info": {
   "codemirror_mode": {
    "name": "ipython",
    "version": 3
   },
   "file_extension": ".py",
   "mimetype": "text/x-python",
   "name": "python",
   "nbconvert_exporter": "python",
   "pygments_lexer": "ipython3",
   "version": "3.13.0"
  }
 },
 "nbformat": 4,
 "nbformat_minor": 2
}
