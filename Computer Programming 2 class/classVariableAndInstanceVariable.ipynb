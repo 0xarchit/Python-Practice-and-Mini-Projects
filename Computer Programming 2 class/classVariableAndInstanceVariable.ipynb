{
 "cells": [
  {
   "cell_type": "code",
   "execution_count": 10,
   "metadata": {},
   "outputs": [
    {
     "name": "stdout",
     "output_type": "stream",
     "text": [
      "('Ravi', 10)\n",
      "('sheyr', 10)\n",
      "2\n"
     ]
    }
   ],
   "source": [
    "# Example\n",
    "class Student:\n",
    "    count = 0\n",
    "    def __init__(self, name, rolln):\n",
    "        self.name = name\n",
    "        self.rolln = rolln\n",
    "        Student.count += 1\n",
    "\n",
    "    def get_details(self):\n",
    "        return self.name, self.rolln\n",
    "    \n",
    "    @classmethod\n",
    "    def get_count(cls):\n",
    "        return cls.count\n",
    "\n",
    "\n",
    "obj = Student(\"Ravi\", 10)\n",
    "print(obj.get_details())\n",
    "\n",
    "obj1 = Student(\"sheyr\", 10)\n",
    "print(obj1.get_details())\n",
    "\n",
    "print(obj.get_count())"
   ]
  }
 ],
 "metadata": {
  "kernelspec": {
   "display_name": "Python 3",
   "language": "python",
   "name": "python3"
  },
  "language_info": {
   "codemirror_mode": {
    "name": "ipython",
    "version": 3
   },
   "file_extension": ".py",
   "mimetype": "text/x-python",
   "name": "python",
   "nbconvert_exporter": "python",
   "pygments_lexer": "ipython3",
   "version": "3.13.1"
  }
 },
 "nbformat": 4,
 "nbformat_minor": 2
}
