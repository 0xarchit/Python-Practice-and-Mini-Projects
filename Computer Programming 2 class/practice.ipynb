{
 "cells": [
  {
   "cell_type": "code",
   "execution_count": null,
   "metadata": {},
   "outputs": [],
   "source": [
    "# 2nd highest number in list\n",
    "max_num = float('-inf')\n",
    "second_max = float('-inf')\n",
    "lst = [4, 2, 9, 6, 5, 1, 8, 3, 7]\n",
    "\n",
    "for num in lst:\n",
    "    if num > max_num:\n",
    "        second_max = max_num\n",
    "        max_num = num\n",
    "    elif num > second_max and num < max_num:\n",
    "        second_max = num\n",
    "\n",
    "print(second_max)"
   ]
  },
  {
   "cell_type": "code",
   "execution_count": null,
   "metadata": {},
   "outputs": [],
   "source": [
    "# majority element -- leetcode\n",
    "lst = [3,3,3,2,4,3,4,3]\n"
   ]
  },
  {
   "cell_type": "code",
   "execution_count": null,
   "metadata": {},
   "outputs": [
    {
     "name": "stdout",
     "output_type": "stream",
     "text": [
      "[0, 0, 1, 1, 1, 2, 2, 2]\n"
     ]
    }
   ],
   "source": [
    "# sort without sort()\n",
    "\n",
    "class Solution:\n",
    "    def sortColors(self, nums: List[int]) -> None:\n",
    "        l = 0  \n",
    "        r = len(nums) - 1  \n",
    "        i = 0  \n",
    "\n",
    "        while i <= r:\n",
    "            if nums[i] == 0:\n",
    "                nums[i], nums[l] = nums[l], nums[i]\n",
    "                l += 1\n",
    "                i += 1\n",
    "            elif nums[i] == 2:\n",
    "                nums[i], nums[r] = nums[r], nums[i]\n",
    "                r -= 1\n",
    "            else:\n",
    "                i += 1\n"
   ]
  },
  {
   "cell_type": "code",
   "execution_count": null,
   "metadata": {},
   "outputs": [
    {
     "name": "stdout",
     "output_type": "stream",
     "text": [
      "2\n",
      "3\n"
     ]
    }
   ],
   "source": [
    "a =3\n",
    "b=2\n",
    "a,b = b,a\n",
    "print(a)\n",
    "print(b)"
   ]
  },
  {
   "cell_type": "code",
   "execution_count": null,
   "metadata": {},
   "outputs": [],
   "source": []
  }
 ],
 "metadata": {
  "kernelspec": {
   "display_name": "Python 3",
   "language": "python",
   "name": "python3"
  },
  "language_info": {
   "codemirror_mode": {
    "name": "ipython",
    "version": 3
   },
   "file_extension": ".py",
   "mimetype": "text/x-python",
   "name": "python",
   "nbconvert_exporter": "python",
   "pygments_lexer": "ipython3",
   "version": "3.13.2"
  }
 },
 "nbformat": 4,
 "nbformat_minor": 2
}
