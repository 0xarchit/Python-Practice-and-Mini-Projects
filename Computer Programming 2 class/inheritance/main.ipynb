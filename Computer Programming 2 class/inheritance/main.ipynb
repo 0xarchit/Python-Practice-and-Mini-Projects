{
 "cells": [
  {
   "cell_type": "code",
   "execution_count": 2,
   "metadata": {},
   "outputs": [],
   "source": [
    "# Inheritance"
   ]
  },
  {
   "cell_type": "code",
   "execution_count": 10,
   "metadata": {},
   "outputs": [
    {
     "name": "stdout",
     "output_type": "stream",
     "text": [
      "<class '__main__.Myclass'>\n",
      "HOLA\n",
      "Hi\n"
     ]
    }
   ],
   "source": [
    "class Myclass(str): # only python support direct multiple inhertiance\n",
    "    def lower(self):\n",
    "        return 'Hi' # method overloading\n",
    "        \n",
    "# main\n",
    "obj = Myclass('hola')\n",
    "print(type(obj))\n",
    "print(obj.upper())\n",
    "print(obj.lower())"
   ]
  },
  {
   "cell_type": "code",
   "execution_count": 9,
   "metadata": {},
   "outputs": [
    {
     "name": "stdout",
     "output_type": "stream",
     "text": [
      "<class '__main__.Myclass'>\n",
      "Hi\n"
     ]
    }
   ],
   "source": [
    "class Myclass(str): # only python support direct multiple inhertiance\n",
    "    def upper(self):\n",
    "        return 'Hi' # method overloading\n",
    "    \n",
    "# main\n",
    "obj = Myclass('hola')\n",
    "print(type(obj))\n",
    "print(obj.upper())"
   ]
  },
  {
   "cell_type": "code",
   "execution_count": 1,
   "metadata": {},
   "outputs": [
    {
     "name": "stdout",
     "output_type": "stream",
     "text": [
      "This is a method in the Parent class.\n",
      "This is a method in the Child class.\n"
     ]
    }
   ],
   "source": [
    "class Parent:\n",
    "    def show(self):\n",
    "        print(\"This is a method in the Parent class.\")\n",
    "\n",
    "class Child(Parent):\n",
    "    def display(self):\n",
    "        print(\"This is a method in the Child class.\")\n",
    "\n",
    "obj = Child()\n",
    "obj.show()\n",
    "obj.display()"
   ]
  }
 ],
 "metadata": {
  "kernelspec": {
   "display_name": "Python 3",
   "language": "python",
   "name": "python3"
  },
  "language_info": {
   "codemirror_mode": {
    "name": "ipython",
    "version": 3
   },
   "file_extension": ".py",
   "mimetype": "text/x-python",
   "name": "python",
   "nbconvert_exporter": "python",
   "pygments_lexer": "ipython3",
   "version": "3.13.1"
  }
 },
 "nbformat": 4,
 "nbformat_minor": 2
}
