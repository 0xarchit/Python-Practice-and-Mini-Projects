{
 "cells": [
  {
   "cell_type": "code",
   "execution_count": 4,
   "metadata": {},
   "outputs": [],
   "source": [
    "# Access Modifiers\n",
    "# Access modifiers are used to control the accessibility of classes, methods, and variables. They determine which parts of the code can be accessed from outside the class."
   ]
  },
  {
   "cell_type": "code",
   "execution_count": 8,
   "metadata": {},
   "outputs": [
    {
     "name": "stdout",
     "output_type": "stream",
     "text": [
      "('Archit', 12)\n",
      "Student count: 1\n",
      "10\n"
     ]
    }
   ],
   "source": [
    "class Student:\n",
    "    count = 0\n",
    "    section = 'EA'\n",
    "    def __init__(self, name, rolln):\n",
    "        self.name = name\n",
    "        self.rolln = rolln\n",
    "        Student.count += 1\n",
    "\n",
    "    def get_details(self):\n",
    "        return self.name, self.rolln\n",
    "    \n",
    "    @classmethod\n",
    "    def get_count(cls):\n",
    "        return f'Student count: {cls.count}'\n",
    "\n",
    "\n",
    "s1 = Student(\"Archit\", 12)\n",
    "s1.count = 10\n",
    "print(s1.get_details())\n",
    "print(s1.get_count())\n",
    "print(s1.count)"
   ]
  },
  {
   "cell_type": "code",
   "execution_count": 9,
   "metadata": {},
   "outputs": [
    {
     "name": "stdout",
     "output_type": "stream",
     "text": [
      "EA\n",
      "method1\n"
     ]
    }
   ],
   "source": [
    "class Student:\n",
    "    section = 'EA' # public\n",
    "    def method1(self):\n",
    "        return 'method1'\n",
    "\n",
    "s1 = Student()\n",
    "\n",
    "print(s1.section)\n",
    "print(s1.method1())"
   ]
  },
  {
   "cell_type": "code",
   "execution_count": 10,
   "metadata": {},
   "outputs": [
    {
     "name": "stdout",
     "output_type": "stream",
     "text": [
      "EA\n",
      "method1\n"
     ]
    }
   ],
   "source": [
    "class Student:\n",
    "    _section = 'EA' # protected\n",
    "    def _method1(self):\n",
    "        return 'method1'\n",
    "\n",
    "s1 = Student()\n",
    "\n",
    "print(s1._section)\n",
    "print(s1._method1())"
   ]
  },
  {
   "cell_type": "code",
   "execution_count": 15,
   "metadata": {},
   "outputs": [
    {
     "name": "stdout",
     "output_type": "stream",
     "text": [
      "EA\n",
      "method1\n"
     ]
    },
    {
     "data": {
      "text/plain": [
       "'EA'"
      ]
     },
     "execution_count": 15,
     "metadata": {},
     "output_type": "execute_result"
    }
   ],
   "source": [
    "class Student:\n",
    "    __section = 'EA' # private\n",
    "    def __method1(self):\n",
    "        return 'method1'\n",
    "    \n",
    "    def get_attr(self):\n",
    "        return self.__section # or self._classname__section\n",
    "\n",
    "s1 = Student()\n",
    "\n",
    "# print(s1.__section)\n",
    "# print(s1.__method1())\n",
    "print(s1.get_attr())\n",
    "print(s1._Student__method1())\n",
    "s1._Student__section"
   ]
  }
 ],
 "metadata": {
  "kernelspec": {
   "display_name": "Python 3",
   "language": "python",
   "name": "python3"
  },
  "language_info": {
   "codemirror_mode": {
    "name": "ipython",
    "version": 3
   },
   "file_extension": ".py",
   "mimetype": "text/x-python",
   "name": "python",
   "nbconvert_exporter": "python",
   "pygments_lexer": "ipython3",
   "version": "3.13.1"
  }
 },
 "nbformat": 4,
 "nbformat_minor": 2
}
