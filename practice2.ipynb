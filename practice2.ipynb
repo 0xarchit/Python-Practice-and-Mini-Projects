{
 "cells": [
  {
   "cell_type": "code",
   "execution_count": 2,
   "metadata": {},
   "outputs": [
    {
     "name": "stdout",
     "output_type": "stream",
     "text": [
      "400 paid using credit card\n",
      "400 paid using debit card\n",
      "400 paid using cash\n"
     ]
    }
   ],
   "source": [
    "class PaymentMethod:\n",
    "    def pay(self, amount):\n",
    "        pass\n",
    "\n",
    "class CreditCard(PaymentMethod):\n",
    "    def pay(self, amount):\n",
    "        return f'{amount} paid using credit card'\n",
    "\n",
    "class DebitCard(PaymentMethod):\n",
    "    def pay(self, amount):\n",
    "        return f'{amount} paid using debit card'\n",
    "\n",
    "class Cash(PaymentMethod):\n",
    "    def pay(self, amount):\n",
    "        return f'{amount} paid using cash'\n",
    "\n",
    "# Example usage:\n",
    "amount = int(input())\n",
    "payment_methods = [CreditCard(), DebitCard(), Cash()]\n",
    "for payment_method in payment_methods:\n",
    "    print(payment_method.pay(amount))\n",
    "# Call the pay method for each payment type"
   ]
  },
  {
   "cell_type": "code",
   "execution_count": 3,
   "metadata": {},
   "outputs": [
    {
     "name": "stdout",
     "output_type": "stream",
     "text": [
      "item1 added to cart\n",
      "item2 added to cart\n",
      "300\n",
      "item1 removed from cart\n",
      "200\n"
     ]
    }
   ],
   "source": [
    "class Item:\n",
    "    def __init__(self, name, price):\n",
    "        self.name = name\n",
    "        self.price = price\n",
    "\n",
    "class ShoppingCart:\n",
    "    def __init__(self):\n",
    "        self.d = {}\n",
    "\n",
    "    def add_item(self, name, price):\n",
    "        n = {}\n",
    "        n[name] = price\n",
    "        self.d.update(n)\n",
    "        print(name, 'added to cart')\n",
    "\n",
    "    def remove_item(self, name):\n",
    "        self.d.pop(name)\n",
    "        print(name, 'removed from cart')\n",
    "\n",
    "    def total_price(self):\n",
    "        return sum(self.d.values())\n",
    "\n",
    "# Example usage:\n",
    "cart = ShoppingCart()\n",
    "# Read input and perform operations\n",
    "\n",
    "cart.add_item('item1', 100)\n",
    "cart.add_item('item2', 200)\n",
    "print(cart.total_price())\n",
    "cart.remove_item('item1')\n",
    "print(cart.total_price())"
   ]
  },
  {
   "cell_type": "code",
   "execution_count": 4,
   "metadata": {},
   "outputs": [
    {
     "name": "stdout",
     "output_type": "stream",
     "text": [
      "60000\n",
      "30200\n"
     ]
    }
   ],
   "source": [
    "class Employee:\n",
    "    def __init__(self, name, base_salary):\n",
    "        self.name = name\n",
    "        self.base_salary = base_salary\n",
    "\n",
    "    def calculate_salary(self):\n",
    "        pass\n",
    "\n",
    "class Manager(Employee):\n",
    "    def __init__(self, name, base_salary, bonus):\n",
    "        super().__init__(name, base_salary)\n",
    "        self.bonus = bonus\n",
    "\n",
    "    def calculate_salary(self):\n",
    "        return self.base_salary + self.bonus\n",
    "\n",
    "class Developer(Employee):\n",
    "    def __init__(self, name, base_salary, overtime_hours, overtime_rate):\n",
    "        super().__init__(name, base_salary)\n",
    "        self.overtime_hours = overtime_hours\n",
    "        self.overtime_rate = overtime_rate\n",
    "\n",
    "    def calculate_salary(self):\n",
    "        return self.base_salary + self.overtime_hours * self.overtime_rate\n",
    "\n",
    "# Example usage:\n",
    "# Read input and create objects\n",
    "manager = Manager('John', 50000, 10000)\n",
    "developer = Developer('David', 30000, 10, 20)\n",
    "\n",
    "print(manager.calculate_salary())\n",
    "print(developer.calculate_salary())"
   ]
  },
  {
   "cell_type": "code",
   "execution_count": 5,
   "metadata": {},
   "outputs": [
    {
     "name": "stdout",
     "output_type": "stream",
     "text": [
      "John Doe\n",
      "50000\n",
      "David\n",
      "60000\n"
     ]
    }
   ],
   "source": [
    "class Employee:\n",
    "    def __init__(self, name, salary):\n",
    "        self.__name = name\n",
    "        self.__salary = salary\n",
    "\n",
    "    def get_name(self):\n",
    "        return self.__name\n",
    "\n",
    "    def set_name(self, name):\n",
    "        self.__name = name\n",
    "\n",
    "    def get_salary(self):\n",
    "        return self.__salary\n",
    "\n",
    "    def set_salary(self, salary):\n",
    "        self.__salary = salary\n",
    "\n",
    "# Example usage:\n",
    "# Read input and manipulate employee details\n",
    "\n",
    "employee = Employee('John Doe', 50000)\n",
    "print(employee.get_name())\n",
    "print(employee.get_salary())\n",
    "employee.set_name('David')\n",
    "employee.set_salary(60000)\n",
    "print(employee.get_name())\n",
    "print(employee.get_salary())"
   ]
  },
  {
   "cell_type": "code",
   "execution_count": 7,
   "metadata": {},
   "outputs": [
    {
     "name": "stdout",
     "output_type": "stream",
     "text": [
      "1300\n",
      "Insufficient balance\n"
     ]
    }
   ],
   "source": [
    "# Create a BankAccount class with methods to deposit, withdraw, and display the balance. Ensure that withdrawal is only allowed if sufficient balance is available\n",
    "class BankAccount:\n",
    "    def __init__(self, account_number, balance):\n",
    "        self.account_number = account_number\n",
    "        self.balance = balance\n",
    "\n",
    "    def deposit(self, amount):\n",
    "        self.balance += amount\n",
    "\n",
    "    def withdraw(self, amount):\n",
    "        if amount <= self.balance:\n",
    "            self.balance -= amount\n",
    "        else:\n",
    "            print('Insufficient balance')\n",
    "\n",
    "    def get_balance(self):\n",
    "        return self.balance\n",
    "\n",
    "# Example usage:\n",
    "# Create an account and perform transactions\n",
    "\n",
    "account = BankAccount('123456', 1000)\n",
    "account.deposit(500)\n",
    "account.withdraw(200)\n",
    "print(account.get_balance())\n",
    "account.withdraw(2000)"
   ]
  },
  {
   "cell_type": "code",
   "execution_count": 8,
   "metadata": {},
   "outputs": [
    {
     "name": "stdout",
     "output_type": "stream",
     "text": [
      "Book1 added to library\n",
      "Book2 added to library\n",
      "Book1 found in library\n",
      "Book1 removed from library\n"
     ]
    }
   ],
   "source": [
    "# Create a Book class and a Library class where users can add, remove, and search for books.\n",
    "class Book:\n",
    "    def __init__(self, title, author):\n",
    "        self.title = title\n",
    "        self.author = author\n",
    "\n",
    "class Library:\n",
    "    def __init__(self):\n",
    "        self.l = []\n",
    "\n",
    "    def add_book(self, title):\n",
    "        self.l.append(title)\n",
    "        print(title, 'added to library')\n",
    "\n",
    "    def remove_book(self, title):\n",
    "        self.l.remove(title)\n",
    "        print(title, 'removed from library')\n",
    "\n",
    "    def search_book(self, title):\n",
    "        if title in self.l:\n",
    "            print(title, 'found in library')\n",
    "        else:\n",
    "            print(title, 'not found in library')\n",
    "\n",
    "# Example usage:\n",
    "# Manage book collection\n",
    "\n",
    "library = Library()\n",
    "library.add_book('Book1')\n",
    "library.add_book('Book2')\n",
    "library.search_book('Book1')\n",
    "library.remove_book('Book1')"
   ]
  },
  {
   "cell_type": "code",
   "execution_count": 9,
   "metadata": {},
   "outputs": [
    {
     "name": "stdout",
     "output_type": "stream",
     "text": [
      "Product1 added to order\n",
      "Product2 added to order\n",
      "300\n",
      "Product1 removed from order\n",
      "200\n"
     ]
    }
   ],
   "source": [
    "# Create an Order class that allows adding and removing products and calculating the total cost.\n",
    "\n",
    "class Order:\n",
    "    def __init__(self):\n",
    "        self.products = {}\n",
    "\n",
    "    def add_product(self, product, price):\n",
    "        n = {}\n",
    "        n[product] = price\n",
    "        self.products.update(n)\n",
    "        print(product, 'added to order')\n",
    "\n",
    "    def remove_product(self, product):\n",
    "        self.products.pop(product)\n",
    "        print(product, 'removed from order')\n",
    "\n",
    "    def calculate_total(self):\n",
    "        print(sum(self.products.values()))\n",
    "\n",
    "# Example usage:\n",
    "# Create an order and perform operations\n",
    "\n",
    "order = Order()\n",
    "order.add_product('Product1', 100)\n",
    "order.add_product('Product2', 200)\n",
    "order.calculate_total()\n",
    "order.remove_product('Product1')\n",
    "order.calculate_total()"
   ]
  },
  {
   "cell_type": "code",
   "execution_count": 10,
   "metadata": {},
   "outputs": [
    {
     "name": "stdout",
     "output_type": "stream",
     "text": [
      "Grade added for John Doe\n",
      "Grade added for John Doe\n",
      "85.0\n"
     ]
    }
   ],
   "source": [
    "# Create a Student class that stores student details and calculates the average grade.\n",
    "class Student:\n",
    "    def __init__(self, name):\n",
    "        self.name = name\n",
    "        self.grades = []\n",
    "\n",
    "    def add_grade(self, grade):\n",
    "        self.grades.append(grade)\n",
    "        print('Grade added for', self.name)\n",
    "\n",
    "    def calculate_average(self):\n",
    "        return sum(self.grades) / len(self.grades)\n",
    "\n",
    "# Example usage:\n",
    "# Manage student records\n",
    "\n",
    "student = Student('John Doe')\n",
    "student.add_grade(90)\n",
    "student.add_grade(80)\n",
    "print(student.calculate_average())\n"
   ]
  },
  {
   "cell_type": "code",
   "execution_count": 11,
   "metadata": {},
   "outputs": [
    {
     "name": "stdout",
     "output_type": "stream",
     "text": [
      "Toyota car with 4 doors\n",
      "Honda bike of type sports\n"
     ]
    }
   ],
   "source": [
    "# Create a base class Vehicle and derive Car and Bike with a method to display information.\n",
    "\n",
    "class Vehicle:\n",
    "    def __init__(self, brand):\n",
    "        self.brand = brand\n",
    "\n",
    "    def display_info(self):\n",
    "        pass\n",
    "\n",
    "class Car(Vehicle):\n",
    "    def __init__(self, brand, doors):\n",
    "        super().__init__(brand)\n",
    "        self.doors = doors\n",
    "\n",
    "    def display_info(self):\n",
    "        return f'{self.brand} car with {self.doors} doors'\n",
    "\n",
    "class Bike(Vehicle):\n",
    "    def __init__(self, brand, type):\n",
    "        super().__init__(brand)\n",
    "        self.type = type\n",
    "\n",
    "    def display_info(self):\n",
    "        return f'{self.brand} bike of type {self.type}'\n",
    "\n",
    "# Example usage:\n",
    "# Create vehicles and display their info\n",
    "\n",
    "car = Car('Toyota', 4)\n",
    "bike = Bike('Honda', 'sports')\n",
    "print(car.display_info())\n",
    "print(bike.display_info())\n"
   ]
  },
  {
   "cell_type": "code",
   "execution_count": 12,
   "metadata": {},
   "outputs": [
    {
     "name": "stdout",
     "output_type": "stream",
     "text": [
      "1300\n",
      "Insufficient balance\n"
     ]
    }
   ],
   "source": [
    "# Create an ATM class with methods to withdraw, deposit, and check balance, ensuring transaction limits.\n",
    "\n",
    "class ATM:\n",
    "    def __init__(self, balance):\n",
    "        self.balance = balance\n",
    "\n",
    "    def deposit(self, amount):\n",
    "        self.balance += amount\n",
    "\n",
    "    def withdraw(self, amount):\n",
    "        if amount <= self.balance:\n",
    "            self.balance -= amount\n",
    "        else:\n",
    "            print('Insufficient balance')\n",
    "\n",
    "    def check_balance(self):\n",
    "        return self.balance\n",
    "\n",
    "# Example usage:\n",
    "# Simulate ATM operations\n",
    "\n",
    "atm = ATM(1000)\n",
    "atm.deposit(500)\n",
    "atm.withdraw(200)\n",
    "print(atm.check_balance())\n",
    "atm.withdraw(2000)"
   ]
  }
 ],
 "metadata": {
  "kernelspec": {
   "display_name": "Python 3",
   "language": "python",
   "name": "python3"
  },
  "language_info": {
   "codemirror_mode": {
    "name": "ipython",
    "version": 3
   },
   "file_extension": ".py",
   "mimetype": "text/x-python",
   "name": "python",
   "nbconvert_exporter": "python",
   "pygments_lexer": "ipython3",
   "version": "3.13.2"
  }
 },
 "nbformat": 4,
 "nbformat_minor": 2
}
