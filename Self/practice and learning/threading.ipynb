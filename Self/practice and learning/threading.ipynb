{
 "cells": [
  {
   "cell_type": "code",
   "execution_count": 20,
   "metadata": {},
   "outputs": [],
   "source": [
    "import threading\n",
    "import time\n",
    "import random\n",
    "import warnings\n",
    "warnings.filterwarnings(\"ignore\")"
   ]
  },
  {
   "cell_type": "code",
   "execution_count": 13,
   "metadata": {},
   "outputs": [
    {
     "name": "stdout",
     "output_type": "stream",
     "text": [
      "Thread 0 sleeps at 03:10:33Active Threads  7\n",
      "Thread Objects:  [<_MainThread(MainThread, started 19288)>, <Thread(IOPub, started daemon 11800)>, <Heartbeat(Heartbeat, started daemon 12952)>, <ControlThread(Control, started daemon 10048)>, <HistorySavingThread(IPythonHistorySavingThread, started 19996)>, <ParentPollerWindows(Thread-1, started daemon 16580)>, <Thread(Thread-131 (execute_thread), started 4496)>]\n",
      "Thread 1 sleeps at 03:10:33\n",
      "\n",
      "Active Threads  8\n",
      "Thread Objects:  [<_MainThread(MainThread, started 19288)>, <Thread(IOPub, started daemon 11800)>, <Heartbeat(Heartbeat, started daemon 12952)>, <ControlThread(Control, started daemon 10048)>, <HistorySavingThread(IPythonHistorySavingThread, started 19996)>, <ParentPollerWindows(Thread-1, started daemon 16580)>, <Thread(Thread-131 (execute_thread), started 4496)>, <Thread(Thread-132 (execute_thread), started 11352)>]\n",
      "Thread 2 sleeps at 03:10:33\n",
      "Active Threads  9\n",
      "Thread Objects:  [<_MainThread(MainThread, started 19288)>, <Thread(IOPub, started daemon 11800)>, <Heartbeat(Heartbeat, started daemon 12952)>, <ControlThread(Control, started daemon 10048)>, <HistorySavingThread(IPythonHistorySavingThread, started 19996)>, <ParentPollerWindows(Thread-1, started daemon 16580)>, <Thread(Thread-131 (execute_thread), started 4496)>, <Thread(Thread-132 (execute_thread), started 11352)>, <Thread(Thread-133 (execute_thread), started 26044)>]\n",
      "Thread 3 sleeps at 03:10:33\n",
      "Active Threads  10\n",
      "Thread Objects:  [<_MainThread(MainThread, started 19288)>, <Thread(IOPub, started daemon 11800)>, <Heartbeat(Heartbeat, started daemon 12952)>, <ControlThread(Control, started daemon 10048)>, <HistorySavingThread(IPythonHistorySavingThread, started 19996)>, <ParentPollerWindows(Thread-1, started daemon 16580)>, <Thread(Thread-131 (execute_thread), started 4496)>, <Thread(Thread-132 (execute_thread), started 11352)>, <Thread(Thread-133 (execute_thread), started 26044)>, <Thread(Thread-134 (execute_thread), started 21252)>]\n",
      "Thread 4 sleeps at 03:10:33\n",
      "Active Threads  11\n",
      "Thread Objects:  [<_MainThread(MainThread, started 19288)>, <Thread(IOPub, started daemon 11800)>, <Heartbeat(Heartbeat, started daemon 12952)>, <ControlThread(Control, started daemon 10048)>, <HistorySavingThread(IPythonHistorySavingThread, started 19996)>, <ParentPollerWindows(Thread-1, started daemon 16580)>, <Thread(Thread-131 (execute_thread), started 4496)>, <Thread(Thread-132 (execute_thread), started 11352)>, <Thread(Thread-133 (execute_thread), started 26044)>, <Thread(Thread-134 (execute_thread), started 21252)>, <Thread(Thread-135 (execute_thread), started 1748)>]\n",
      "Thread 5 sleeps at 03:10:33\n",
      "Active Threads  12\n",
      "Thread Objects:  [<_MainThread(MainThread, started 19288)>, <Thread(IOPub, started daemon 11800)>, <Heartbeat(Heartbeat, started daemon 12952)>, <ControlThread(Control, started daemon 10048)>, <HistorySavingThread(IPythonHistorySavingThread, started 19996)>, <ParentPollerWindows(Thread-1, started daemon 16580)>, <Thread(Thread-131 (execute_thread), started 4496)>, <Thread(Thread-132 (execute_thread), started 11352)>, <Thread(Thread-133 (execute_thread), started 26044)>, <Thread(Thread-134 (execute_thread), started 21252)>, <Thread(Thread-135 (execute_thread), started 1748)>, <Thread(Thread-136 (execute_thread), started 3152)>]\n",
      "Thread 6 sleeps at 03:10:33\n",
      "Active Threads  13\n",
      "Thread Objects:  [<_MainThread(MainThread, started 19288)>, <Thread(IOPub, started daemon 11800)>, <Heartbeat(Heartbeat, started daemon 12952)>, <ControlThread(Control, started daemon 10048)>, <HistorySavingThread(IPythonHistorySavingThread, started 19996)>, <ParentPollerWindows(Thread-1, started daemon 16580)>, <Thread(Thread-131 (execute_thread), started 4496)>, <Thread(Thread-132 (execute_thread), started 11352)>, <Thread(Thread-133 (execute_thread), started 26044)>, <Thread(Thread-134 (execute_thread), started 21252)>, <Thread(Thread-135 (execute_thread), started 1748)>, <Thread(Thread-136 (execute_thread), started 3152)>, <Thread(Thread-137 (execute_thread), started 3172)>]\n",
      "Thread 7 sleeps at 03:10:33\n",
      "Active Threads  14\n",
      "Thread Objects:  [<_MainThread(MainThread, started 19288)>, <Thread(IOPub, started daemon 11800)>, <Heartbeat(Heartbeat, started daemon 12952)>, <ControlThread(Control, started daemon 10048)>, <HistorySavingThread(IPythonHistorySavingThread, started 19996)>, <ParentPollerWindows(Thread-1, started daemon 16580)>, <Thread(Thread-131 (execute_thread), started 4496)>, <Thread(Thread-132 (execute_thread), started 11352)>, <Thread(Thread-133 (execute_thread), started 26044)>, <Thread(Thread-134 (execute_thread), started 21252)>, <Thread(Thread-135 (execute_thread), started 1748)>, <Thread(Thread-136 (execute_thread), started 3152)>, <Thread(Thread-137 (execute_thread), started 3172)>, <Thread(Thread-138 (execute_thread), started 7472)>]\n",
      "Thread 8 sleeps at 03:10:33\n",
      "Active Threads  15\n",
      "Thread Objects:  [<_MainThread(MainThread, started 19288)>, <Thread(IOPub, started daemon 11800)>, <Heartbeat(Heartbeat, started daemon 12952)>, <ControlThread(Control, started daemon 10048)>, <HistorySavingThread(IPythonHistorySavingThread, started 19996)>, <ParentPollerWindows(Thread-1, started daemon 16580)>, <Thread(Thread-131 (execute_thread), started 4496)>, <Thread(Thread-132 (execute_thread), started 11352)>, <Thread(Thread-133 (execute_thread), started 26044)>, <Thread(Thread-134 (execute_thread), started 21252)>, <Thread(Thread-135 (execute_thread), started 1748)>, <Thread(Thread-136 (execute_thread), started 3152)>, <Thread(Thread-137 (execute_thread), started 3172)>, <Thread(Thread-138 (execute_thread), started 7472)>, <Thread(Thread-139 (execute_thread), started 24872)>]\n",
      "Thread 9 sleeps at 03:10:33\n",
      "Active Threads  16\n",
      "Thread Objects:  [<_MainThread(MainThread, started 19288)>, <Thread(IOPub, started daemon 11800)>, <Heartbeat(Heartbeat, started daemon 12952)>, <ControlThread(Control, started daemon 10048)>, <HistorySavingThread(IPythonHistorySavingThread, started 19996)>, <ParentPollerWindows(Thread-1, started daemon 16580)>, <Thread(Thread-131 (execute_thread), started 4496)>, <Thread(Thread-132 (execute_thread), started 11352)>, <Thread(Thread-133 (execute_thread), started 26044)>, <Thread(Thread-134 (execute_thread), started 21252)>, <Thread(Thread-135 (execute_thread), started 1748)>, <Thread(Thread-136 (execute_thread), started 3152)>, <Thread(Thread-137 (execute_thread), started 3172)>, <Thread(Thread-138 (execute_thread), started 7472)>, <Thread(Thread-139 (execute_thread), started 24872)>, <Thread(Thread-140 (execute_thread), started 10340)>]\n"
     ]
    },
    {
     "name": "stdout",
     "output_type": "stream",
     "text": [
      "Thread 0 wake at 03:10:34\n",
      "Thread 3 wake at 03:10:34\n",
      "Thread 5 wake at 03:10:34\n",
      "Thread 8 wake at 03:10:35\n",
      "Thread 9 wake at 03:10:35\n",
      "Thread 1 wake at 03:10:36\n",
      "Thread 6 wake at 03:10:36\n",
      "Thread 7 wake at 03:10:36\n",
      "Thread 2 wake at 03:10:37Thread 4 wake at 03:10:37\n",
      "\n"
     ]
    }
   ],
   "source": [
    "def execute_thread(i):\n",
    "    print(f\"Thread {i} sleeps at {time.strftime(\"%H:%M:%S\", time.gmtime())}\")\n",
    "    rand_sleep_time = random.randint(1, 4)\n",
    "    time.sleep(rand_sleep_time)\n",
    "    print((f\"Thread {i} wake at {time.strftime(\"%H:%M:%S\", time.gmtime())}\"))\n",
    "for i in range(10):\n",
    "    thread = threading.Thread(target=execute_thread, args=(i,))\n",
    "    thread.start()\n",
    "    print(\"Active Threads \", threading.active_count())\n",
    "    print(\"Thread Objects: \", threading.enumerate())"
   ]
  },
  {
   "cell_type": "code",
   "execution_count": 21,
   "metadata": {},
   "outputs": [
    {
     "name": "stdout",
     "output_type": "stream",
     "text": [
      "Thread 1 sleeps at 03:19:18\n",
      "Thread 2 sleeps at 03:19:18\n",
      "Thread 1 Alive : True\n",
      "Thread 2 Alive : True\n",
      "Thread 1 Name : 1\n",
      "Thread 2 Name : 2\n",
      "Thread 1 Execution Ends\n",
      "Thread 2 Execution Ends\n",
      "Execution Ends\n"
     ]
    }
   ],
   "source": [
    "class CustThread(threading.Thread):\n",
    "    def __init__(self, name):\n",
    "        threading.Thread.__init__(self)\n",
    "        self.name = name\n",
    "    def run(self):\n",
    "        get_time(self.name)\n",
    "        print(\"Thread\", self.name, \"Execution Ends\")\n",
    "def get_time(name):\n",
    "    print(\"Thread {} sleeps at {}\".format(name, time.strftime(\"%H:%M:%S\", time.gmtime())))\n",
    "    randSleepTime = random.randint(1, 5)\n",
    "    time.sleep(randSleepTime)\n",
    "        \n",
    "        \n",
    "thread1 = CustThread(\"1\")\n",
    "thread2 = CustThread(\"2\")\n",
    "\n",
    "thread1.start()\n",
    "thread2.start()\n",
    "\n",
    "print(\"Thread 1 Alive :\", thread1.is_alive())\n",
    "print(\"Thread 2 Alive :\", thread2.is_alive())\n",
    "\n",
    "print(\"Thread 1 Name :\", thread1.getName())\n",
    "print(\"Thread 2 Name :\", thread2.getName())\n",
    "\n",
    "thread1.join()\n",
    "thread2.join()\n",
    "print(\"Execution Ends\")"
   ]
  },
  {
   "cell_type": "code",
   "execution_count": 23,
   "metadata": {},
   "outputs": [
    {
     "name": "stdout",
     "output_type": "stream",
     "text": [
      "Doug tries to withdrawal $1 at 03:26:21\n",
      "New account balance is : $99\n",
      "Paul tries to withdrawal $100 at 03:26:21\n",
      "Not enough money in the account\n",
      "Current balance : $99\n",
      "Sally tries to withdrawal $50 at 03:26:24\n",
      "New account balance is : $49\n",
      "Execution Ends\n"
     ]
    }
   ],
   "source": [
    "class BankAccount (threading.Thread):\n",
    "    acct_balance = 100\n",
    "    def __init__(self, name, money_request):\n",
    "        threading.Thread.__init__(self)\n",
    "        self.name = name\n",
    "        self.money_request = money_request\n",
    "    def run(self):\n",
    "        threadLock.acquire()\n",
    "        BankAccount.get_money(self)\n",
    "        threadLock.release()\n",
    "    @staticmethod\n",
    "    def get_money(customer):\n",
    "        print(\"{} tries to withdrawal ${} at {}\".format(customer.name, customer.money_request, time.strftime(\"%H:%M:%S\", time.gmtime())))\n",
    "        if BankAccount.acct_balance - customer.money_request > 0:\n",
    "            BankAccount.acct_balance -= customer.money_request\n",
    "            print(\"New account balance is : ${}\".format(BankAccount.acct_balance))\n",
    "        else:\n",
    "            print(\"Not enough money in the account\")\n",
    "            print(\"Current balance : ${}\".format(BankAccount.acct_balance))\n",
    "            time.sleep(3)\n",
    "\n",
    "\n",
    "threadLock = threading.Lock()\n",
    "\n",
    "doug = BankAccount(\"Doug\", 1)\n",
    "paul = BankAccount(\"Paul\", 100)\n",
    "sally = BankAccount(\"Sally\", 50)\n",
    "\n",
    "doug.start()\n",
    "paul.start()\n",
    "sally.start()\n",
    "\n",
    "doug.join()\n",
    "paul.join()\n",
    "sally.join()\n",
    "print(\"Execution Ends\")"
   ]
  }
 ],
 "metadata": {
  "kernelspec": {
   "display_name": "Python 3",
   "language": "python",
   "name": "python3"
  },
  "language_info": {
   "codemirror_mode": {
    "name": "ipython",
    "version": 3
   },
   "file_extension": ".py",
   "mimetype": "text/x-python",
   "name": "python",
   "nbconvert_exporter": "python",
   "pygments_lexer": "ipython3",
   "version": "3.13.1"
  }
 },
 "nbformat": 4,
 "nbformat_minor": 2
}
