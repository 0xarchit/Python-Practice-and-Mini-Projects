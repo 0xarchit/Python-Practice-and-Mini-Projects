{
 "cells": [
  {
   "cell_type": "code",
   "execution_count": null,
   "metadata": {},
   "outputs": [],
   "source": [
    "import random\n",
    "import math\n",
    "\n",
    "class Warrior:\n",
    "    def __init__(self, name=\"warrior\", health=\"0\",attk_max=0, block_max=0):\n",
    "        self.name = name\n",
    "        self.health = health\n",
    "        self.attk_max = attk_max\n",
    "        self.block_max = block_max\n",
    "\n",
    "    def attack(self):\n",
    "        attk_amt = self.attk_max * (random.random() + .5)\n",
    "        return attk_amt\n",
    "    \n",
    "    def block(self):\n",
    "        block_amt = self.block_max * (random.random() + .5)\n",
    "        return block_amt\n",
    "    \n",
    "class Battle:\n",
    "    def start_fight(self, warrior1, warrior2):\n",
    "        while True:\n",
    "            if self.get_attack_result(warrior1, warrior2) == \"Game Over\":\n",
    "                break\n",
    "            if self.get_attack_result(warrior2, warrior1) == \"Game Over\":\n",
    "                break\n",
    "    def get_attack_result(self, attacker, defender):\n",
    "        attacker_attk_amt = attacker.attack()\n",
    "        defender_block_amt = defender.block()\n",
    "        damage_2_defender = math.ceil(attacker_attk_amt - defender_block_amt)\n",
    "        defender.health = defender.health - damage_2_defender\n",
    "        print(f\"{attacker.name} attacks {defender.name} and deals {damage_2_defender}\")\n",
    "        print(f\"{defender.name} is down to {defender.health} health\")\n",
    "        if defender.health <= 0:\n",
    "            print(\"{defender.name} has been defeated! {attacker.name} wins!\")\n",
    "            return \"Game Over\"\n",
    "        else:\n",
    "            return \"Fight Again\"\n",
    "        \n",
    "thor = Warrior(\"Thor\", 50, 20, 10)\n",
    "loki = Warrior(\"Loki\", 50, 20, 10)\n",
    "\n",
    "battle = Battle()\n",
    "battle.start_fight(thor, loki)"
   ]
  },
  {
   "cell_type": "code",
   "execution_count": null,
   "metadata": {},
   "outputs": [],
   "source": [
    "class Animals:\n",
    "    def __init__(self, birth_type=\"Unknown\", appearance=\"unknown\", blooded=\"unknown\"):\n",
    "        self.__birth_type = birth_type\n",
    "        self.__appearance = appearance\n",
    "        self.__blooded = blooded\n",
    "\n",
    "    @property\n",
    "    def birth_type(self):\n",
    "        return self.__birth_type\n",
    "\n",
    "    @birth_type.setter\n",
    "    def birth_type(self, birth_type):\n",
    "        self.__birth_type = birth_type\n",
    "\n",
    "    @property\n",
    "    def appearance(self):\n",
    "        return self.__appearance  # Fixed: Return the private attribute\n",
    "\n",
    "    @appearance.setter\n",
    "    def appearance(self, appearance):\n",
    "        self.__appearance = appearance  # Fixed: Assign to the private attribute\n",
    "\n",
    "    @property\n",
    "    def blooded(self):\n",
    "        return self.__blooded\n",
    "\n",
    "    @blooded.setter\n",
    "    def blooded(self, blooded):\n",
    "        self.__blooded = blooded\n",
    "\n",
    "    def __str__(self):\n",
    "        return f'A {type(self).__name__} is {self.birth_type}, it is {self.appearance}, and it is {self.blooded}.'\n",
    "\n",
    "class Mammal(Animals):\n",
    "    def __init__(self, birth_type=\"Born alive\", appearance=\"hair or fur\", blooded=\"warm blooded\", nurse_young=True):\n",
    "        super().__init__(birth_type, appearance, blooded)  # Use super() for better inheritance\n",
    "        self.__nurse_young = nurse_young\n",
    "\n",
    "    @property\n",
    "    def nurse_young(self):\n",
    "        return self.__nurse_young\n",
    "\n",
    "    @nurse_young.setter\n",
    "    def nurse_young(self, nurse_young):\n",
    "        self.__nurse_young = nurse_young\n",
    "\n",
    "    def __str__(self):\n",
    "        return super().__str__() + f' They nurse their young: {self.nurse_young}.'\n",
    "\n",
    "class Reptile(Animals):\n",
    "    def __init__(self, birth_type=\"Egg laying\", appearance=\"scaly\", blooded=\"cold blooded\"):\n",
    "        super().__init__(birth_type, appearance, blooded)  # Use super() for better inheritance\n",
    "\n",
    "def main():\n",
    "    animal1 = Animals(\"Born alive\", \"furry\", \"warm-blooded\")\n",
    "    print(animal1.birth_type)\n",
    "    print(animal1)\n",
    "\n",
    "    mammal1 = Mammal()\n",
    "    print(mammal1)\n",
    "    \n",
    "    reptile1 = Reptile()\n",
    "    print(reptile1)\n",
    "\n",
    "\n",
    "main()"
   ]
  },
  {
   "cell_type": "code",
   "execution_count": null,
   "metadata": {},
   "outputs": [],
   "source": [
    "# magic methods eg: __add__, __sub__, __mul__, __truediv__, __floordiv__, __mod__, __gt__, __ge__, __lt__, __le__, __eq__, __ne__, __abs__\n",
    "class Time:\n",
    "    def __init__(self, hour=0, minute=0, second=0):\n",
    "        self.hour = hour\n",
    "        self.minute = minute\n",
    "        self.second = second\n",
    "    def __str__(self):\n",
    "        return f\"{self.hour:02d}:{self.minute:02d}:{self.second:02d}\"\n",
    "    def __add__(self, other_time):\n",
    "        new_time = Time()\n",
    "        if self.second+other_time.second >= 60:\n",
    "            self.minute += 1\n",
    "            new_time.second = (self.second + other_time.second) - 60\n",
    "        else:\n",
    "            new_time.second = self.second + other_time.second\n",
    "\n",
    "        if self.minute+other_time.minute >= 60:\n",
    "            self.hour += 1\n",
    "            new_time.minute = (self.minute + other_time.minute) - 60\n",
    "        else:\n",
    "            new_time.minute = self.minute + other_time.minute\n",
    "\n",
    "        if self.hour+other_time.hour >= 24:\n",
    "            new_time.hour = (self.hour + other_time.hour) - 24\n",
    "        else:\n",
    "            new_time.hour = self.hour + other_time.hour\n",
    "\n",
    "        return new_time\n",
    "def main():\n",
    "    time1 = Time(10, 30, 0)\n",
    "    time2 = Time(2, 45, 0)\n",
    "    print(time1)\n",
    "    print(time2)\n",
    "    print(time1 + time2)\n",
    "\n",
    "main()"
   ]
  },
  {
   "cell_type": "code",
   "execution_count": null,
   "metadata": {},
   "outputs": [],
   "source": [
    "#static and module\n",
    "class sum:\n",
    "    @staticmethod\n",
    "    def get_sum(*args):\n",
    "        sum_1 = 0\n",
    "        for i in args:\n",
    "            sum_1 += i\n",
    "        return sum_1\n",
    "    \n",
    "def main():\n",
    "    print(\"sum:\", sum.get_sum(1, 2, 3, 4, 5))\n",
    "\n",
    "main()"
   ]
  },
  {
   "cell_type": "code",
   "execution_count": 14,
   "metadata": {},
   "outputs": [
    {
     "name": "stdout",
     "output_type": "stream",
     "text": [
      "There are 1 dogs.\n"
     ]
    }
   ],
   "source": [
    "class Dog:\n",
    "    num_of_dogs = 0\n",
    "\n",
    "    def __init__(self, name=\"unknown\"):\n",
    "        self.name = name\n",
    "        Dog.num_of_dogs += 1\n",
    "\n",
    "    @staticmethod\n",
    "    def get_num_of_dogs():\n",
    "        print(f\"There are {Dog.num_of_dogs} dogs.\")\n",
    "\n",
    "def main():\n",
    "    spot = Dog(\"spot\")\n",
    "    spot.get_num_of_dogs()\n",
    "    \n",
    "main()"
   ]
  },
  {
   "cell_type": "code",
   "execution_count": 15,
   "metadata": {},
   "outputs": [
    {
     "name": "stdout",
     "output_type": "stream",
     "text": [
      "sum :  15\n"
     ]
    }
   ],
   "source": [
    "import sum\n",
    "print(\"sum :\", sum.get_sum(1,2,3,4,5))"
   ]
  },
  {
   "cell_type": "code",
   "execution_count": 2,
   "metadata": {},
   "outputs": [
    {
     "name": "stdout",
     "output_type": "stream",
     "text": [
      "Invalid dog name. Please enter a name without numbers.\n"
     ]
    }
   ],
   "source": [
    "class DogNameError(Exception):\n",
    "    def __init__(self, *args, **kwargs):\n",
    "        Exception.__init__(self, *args, **kwargs)\n",
    "\n",
    "try:\n",
    "    dog_name = input(\"Enter your dog's name: \")\n",
    "    if any(char.isdigit() for char in dog_name):\n",
    "        raise DogNameError(\"Dog name cannot contain numbers\")\n",
    "except DogNameError:\n",
    "    print(\"Invalid dog name. Please enter a name without numbers.\")"
   ]
  },
  {
   "cell_type": "code",
   "execution_count": 8,
   "metadata": {},
   "outputs": [
    {
     "name": "stdout",
     "output_type": "stream",
     "text": [
      "4*2=8\n",
      "8*2=16\n",
      "5*3=15\n",
      "5*9=45\n",
      "[1, 3, 5, 7, 9, 11, 13, 15, 17, 19]\n",
      "Hello, my name is idk, I am idk years old and of 47 kg.\n"
     ]
    }
   ],
   "source": [
    "def mult_2(n):\n",
    "    return n*2\n",
    "\n",
    "times_2 = mult_2\n",
    "\n",
    "print(f'4*2={times_2(4)}')\n",
    "\n",
    "def do_math(func, n):\n",
    "    return func(n)\n",
    "print(f\"8*2={do_math(mult_2, 8)}\")\n",
    "\n",
    "def get_func_mult_by_num(n):\n",
    "    def mult_by(val):\n",
    "        return n*val\n",
    "    return mult_by\n",
    "generated_func = get_func_mult_by_num(5)\n",
    "print(f\"5*3={generated_func(3)}\")\n",
    "\n",
    "list_of_funcs = [times_2, generated_func]\n",
    "print(f\"5*9={list_of_funcs[1](9)}\")\n",
    "\n",
    "\n",
    "def is_it_odd(n):\n",
    "    return n % 2 != 0\n",
    "def change_list(list, func):\n",
    "    odd_list = []\n",
    "    for i in list:\n",
    "        if func(i):\n",
    "            odd_list.append(i)\n",
    "    return odd_list\n",
    "\n",
    "a = range(1,20)\n",
    "print(change_list(a, is_it_odd))\n",
    "\n",
    "def random_func(name: str, age: int, weight: float) -> str:\n",
    "    return f\"Hello, my name is {name}, I am {age} years old and of {weight} kg.\"\n",
    "\n",
    "print(random_func(\"idk\", \"idk\", 47)) # no matter what above in def its for documentation only\n",
    "# function as object"
   ]
  },
  {
   "cell_type": "code",
   "execution_count": 1,
   "metadata": {},
   "outputs": [
    {
     "name": "stdout",
     "output_type": "stream",
     "text": [
      "Fibonacci: 1\n",
      "Fibonacci: 2\n",
      "Fibonacci: 3\n",
      "Fibonacci: 5\n",
      "Fibonacci: 8\n",
      "Fibonacci: 13\n",
      "Fibonacci: 21\n",
      "Fibonacci: 34\n",
      "Fibonacci: 55\n",
      "Fibonacci: 89\n"
     ]
    }
   ],
   "source": [
    "# Fibonacci with classes\n",
    "class Fibonacci:\n",
    "    def __init__(self):\n",
    "        self.first = 0\n",
    "        self.second = 1\n",
    "    def __iter__(self):\n",
    "        return self\n",
    "    def __next__(self):\n",
    "        fib_sum = self.first + self.second\n",
    "        self.first = self.second\n",
    "        self.second = fib_sum\n",
    "        return fib_sum\n",
    "\n",
    "fib_seq = Fibonacci()\n",
    "for _ in range(10):\n",
    "    print(f\"Fibonacci: {next(fib_seq)}\")"
   ]
  }
 ],
 "metadata": {
  "kernelspec": {
   "display_name": "Python 3",
   "language": "python",
   "name": "python3"
  },
  "language_info": {
   "codemirror_mode": {
    "name": "ipython",
    "version": 3
   },
   "file_extension": ".py",
   "mimetype": "text/x-python",
   "name": "python",
   "nbconvert_exporter": "python",
   "pygments_lexer": "ipython3",
   "version": "3.13.1"
  }
 },
 "nbformat": 4,
 "nbformat_minor": 2
}
