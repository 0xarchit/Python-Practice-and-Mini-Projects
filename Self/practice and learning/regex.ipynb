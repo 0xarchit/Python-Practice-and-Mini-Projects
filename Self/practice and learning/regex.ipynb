{
 "cells": [
  {
   "cell_type": "code",
   "execution_count": null,
   "metadata": {},
   "outputs": [],
   "source": [
    "'''\n",
    "[]\tA set of characters\t\"[a-m]\"\t\n",
    "\\\tSignals a special sequence (can also be used to escape special characters)\t\"\\d\"\t\n",
    ".\tAny character (except newline character)\t\"he..o\"\t\n",
    "^\tStarts with\t\"^hello\"\t\n",
    "$\tEnds with\t\"planet$\"\t\n",
    "*\tZero or more occurrences\t\"he.*o\"\t\n",
    "+\tOne or more occurrences\t\"he.+o\"\t\n",
    "?\tZero or one occurrences\t\"he.?o\"\t\n",
    "{}\tExactly the specified number of occurrences\t\"he.{2}o\"\t\n",
    "|\tEither or\t\"falls|stays\"\t\n",
    "()\tCapture and group\n",
    "\n",
    "Expressions &\tExplanations\n",
    "\\w \n",
    "Matches alphanumeric characters, that is a-z, A-Z, 0-9, and underscore(_)\n",
    "\\W\n",
    "Matches non-alphanumeric characters, that is except a-z, A-Z, 0-9 and _\n",
    "\\d\n",
    "Matches digits, from 0-9.\n",
    "\\D \n",
    "Matches any non-digits.\n",
    "\\s\n",
    "Matches whitespace characters, which also include the \\t, \\n, \\r, and space characters.\n",
    "\\S\n",
    "Matches non-whitespace characters.\n",
    "\\A\n",
    "Matches the expression to its right at the absolute start of a string whether in single or multi-line mode.\n",
    "\\Z \n",
    "Matches the expression to its left at the absolute end of a string whether in single or multi-line mode.\n",
    "\\n\n",
    "Matches a newline character\n",
    "\\t\n",
    "Matches tab character\n",
    "\\b\n",
    "Matches the word boundary (or empty string) at the start and end of a word.\n",
    "\\B\n",
    "Matches where \\b does not, that is, non-word boundary\n",
    "'''"
   ]
  },
  {
   "cell_type": "code",
   "execution_count": 3,
   "metadata": {},
   "outputs": [],
   "source": [
    "import re\n",
    "import warnings\n",
    "warnings.filterwarnings(\"ignore\")"
   ]
  },
  {
   "cell_type": "code",
   "execution_count": 2,
   "metadata": {},
   "outputs": [
    {
     "name": "stdout",
     "output_type": "stream",
     "text": [
      "Found a match\n"
     ]
    }
   ],
   "source": [
    "if re.search(\"ape\", \"The ape was at the apex\"):\n",
    "    print(\"Found a match\")"
   ]
  },
  {
   "cell_type": "code",
   "execution_count": 5,
   "metadata": {},
   "outputs": [
    {
     "name": "stdout",
     "output_type": "stream",
     "text": [
      "ape\n",
      "ape\n"
     ]
    }
   ],
   "source": [
    "all_apes = re.findall(\"ape\", \"The ape was at the apex\")\n",
    "for i in all_apes:\n",
    "    print(i)"
   ]
  },
  {
   "cell_type": "code",
   "execution_count": 6,
   "metadata": {},
   "outputs": [
    {
     "name": "stdout",
     "output_type": "stream",
     "text": [
      "(4, 8)\n",
      "ape \n",
      "(19, 23)\n",
      "apex\n"
     ]
    }
   ],
   "source": [
    "the_str = \"The ape was at the apex\"\n",
    "for i in re.finditer(\"ape.\", the_str):\n",
    "    loc_tup = i.span() # return a tuple of start and end positions\n",
    "    print(loc_tup)\n",
    "    print(the_str[loc_tup[0]:loc_tup[1]])"
   ]
  },
  {
   "cell_type": "code",
   "execution_count": 8,
   "metadata": {},
   "outputs": [
    {
     "name": "stdout",
     "output_type": "stream",
     "text": [
      "rat\n",
      "mat\n",
      "fat\n",
      "pat\n"
     ]
    }
   ],
   "source": [
    "animal_str = \"Cat rat mat fat pat\"\n",
    "all_animals = re.findall(\"[crmfp]at\", animal_str)\n",
    "for i in all_animals:\n",
    "    print(i)"
   ]
  },
  {
   "cell_type": "code",
   "execution_count": 9,
   "metadata": {},
   "outputs": [
    {
     "name": "stdout",
     "output_type": "stream",
     "text": [
      "Cat\n",
      "mat\n",
      "fat\n"
     ]
    }
   ],
   "source": [
    "some_animals = re.findall(\"[c-mC-M]at\", animal_str)\n",
    "for i in some_animals:\n",
    "    print(i)"
   ]
  },
  {
   "cell_type": "code",
   "execution_count": 10,
   "metadata": {},
   "outputs": [
    {
     "name": "stdout",
     "output_type": "stream",
     "text": [
      "mat\n",
      "fat\n",
      "pat\n"
     ]
    }
   ],
   "source": [
    "all_animals = re.findall(\"[^Cr]at\", animal_str) # Find all animals that are not cats or rats\n",
    "for i in all_animals:\n",
    "    print(i)"
   ]
  },
  {
   "cell_type": "code",
   "execution_count": 13,
   "metadata": {},
   "outputs": [
    {
     "name": "stdout",
     "output_type": "stream",
     "text": [
      "rat owl owl pat\n"
     ]
    }
   ],
   "source": [
    "owl_food = \"rat cat mat pat\"\n",
    "regex = re.compile(\"[cm]at\")\n",
    "owl_food = regex.sub(\"owl\", owl_food)\n",
    "print(owl_food) "
   ]
  },
  {
   "cell_type": "code",
   "execution_count": 17,
   "metadata": {},
   "outputs": [
    {
     "name": "stdout",
     "output_type": "stream",
     "text": [
      "Find \\stuff:  <re.Match object; span=(8, 14), match='\\\\stuff'>\n"
     ]
    }
   ],
   "source": [
    "rand_str = \"Here is \\\\stuff\"\n",
    "# print(\"Find \\\\stuff: \", re.search(\"\\\\\\\\stuff\", rand_str))\n",
    "\n",
    "print(\"Find \\\\stuff: \", re.search(r\"\\\\stuff\", rand_str))"
   ]
  },
  {
   "cell_type": "code",
   "execution_count": 2,
   "metadata": {},
   "outputs": [
    {
     "name": "stdout",
     "output_type": "stream",
     "text": [
      "['F.B.I', 'I.R.S']\n"
     ]
    }
   ],
   "source": [
    "rnd_str = \"F.B.I. I.R.S. CIA\"\n",
    "print(re.findall(r\".\\..\\..\", rnd_str))"
   ]
  },
  {
   "cell_type": "code",
   "execution_count": 8,
   "metadata": {},
   "outputs": [
    {
     "name": "stdout",
     "output_type": "stream",
     "text": [
      "This is a\n",
      "long string\n",
      "of 3 lines\n",
      "This is a  long string  of 3 lines\n"
     ]
    }
   ],
   "source": [
    "rand_str = '''This is a\n",
    "long string\n",
    "of 3 lines'''\n",
    "\n",
    "print(rand_str)\n",
    "regex = re.compile(\"\\n\")\n",
    "rand_str = regex.sub(\"  \", rand_str)\n",
    "print(rand_str)\n",
    "\n",
    "# \\b \\f \\r \\t \\v \\r\\n"
   ]
  },
  {
   "cell_type": "code",
   "execution_count": 11,
   "metadata": {},
   "outputs": [
    {
     "name": "stdout",
     "output_type": "stream",
     "text": [
      "Matches : 5\n"
     ]
    }
   ],
   "source": [
    "rnd_str = \"12345\"\n",
    "print(\"Matches :\", len(re.findall(\"\\d\", rnd_str)))"
   ]
  },
  {
   "cell_type": "code",
   "execution_count": 12,
   "metadata": {},
   "outputs": [
    {
     "name": "stdout",
     "output_type": "stream",
     "text": [
      "It is zip code\n"
     ]
    }
   ],
   "source": [
    "rnd_str = \"12345\"\n",
    "if re.search(\"\\d{5}\", rnd_str):\n",
    "    print(\"It is zip code\")"
   ]
  },
  {
   "cell_type": "code",
   "execution_count": 15,
   "metadata": {},
   "outputs": [
    {
     "name": "stdout",
     "output_type": "stream",
     "text": [
      "Matches:  3\n"
     ]
    }
   ],
   "source": [
    "rnd = \"123 12345 123456 1234567\"\n",
    "print(\"Matches: \", len(re.findall(\"\\d{5,7}\", rnd)))"
   ]
  },
  {
   "cell_type": "code",
   "execution_count": 13,
   "metadata": {},
   "outputs": [
    {
     "name": "stdout",
     "output_type": "stream",
     "text": [
      "Valid phone number found: 123-555-1234\n",
      "Valid phone number found: 456.555.4321\n",
      "Valid phone number found: (789)555-9876\n",
      "123-555-1234 is a valid phone number format\n"
     ]
    }
   ],
   "source": [
    "phone_str = \"123-555-1234, 456.555.4321, (789)555-9876\"\n",
    "\n",
    "phone_pattern = re.compile(r\"(\\d{3}[-\\.]\\d{3}[-\\.]\\d{4}|\\(\\d{3}\\)\\d{3}[-\\.]\\d{4})\")\n",
    "phone_numbers = phone_pattern.findall(phone_str)\n",
    "\n",
    "for number in phone_numbers:\n",
    "    print(f\"Valid phone number found: {number}\")\n",
    "\n",
    "test_number = \"123-555-1234\"\n",
    "if phone_pattern.match(test_number):\n",
    "    print(f\"{test_number} is a valid phone number format\")"
   ]
  },
  {
   "cell_type": "code",
   "execution_count": 18,
   "metadata": {},
   "outputs": [
    {
     "name": "stdout",
     "output_type": "stream",
     "text": [
      "Phone number is valid\n",
      "Name is valid\n"
     ]
    }
   ],
   "source": [
    "ph = \"123-1234-123\"\n",
    "if re.search(\"\\w{3}-\\w{4}-\\w{3}\", ph):\n",
    "    print(\"Phone number is valid\")\n",
    "if re.search(\"\\w{2,20}\", \"0xArchit\"):\n",
    "    print(\"Name is valid\")"
   ]
  },
  {
   "cell_type": "code",
   "execution_count": 22,
   "metadata": {},
   "outputs": [
    {
     "name": "stdout",
     "output_type": "stream",
     "text": [
      "Match found\n"
     ]
    }
   ],
   "source": [
    "if re.search(\"\\w{2,20}\\s\\w{2,20}\\s\\w{2,10}\\s\\w{2,5}\", \"0xarchit AkA Archit Jain\"):\n",
    "    print(\"Match found\")"
   ]
  },
  {
   "cell_type": "code",
   "execution_count": 26,
   "metadata": {},
   "outputs": [
    {
     "name": "stdout",
     "output_type": "stream",
     "text": [
      "Matches:  3\n"
     ]
    }
   ],
   "source": [
    "print(\"Matches: \", len(re.findall(\"a+\", \"a as has bug\")))"
   ]
  },
  {
   "cell_type": "code",
   "execution_count": 10,
   "metadata": {},
   "outputs": [
    {
     "name": "stdout",
     "output_type": "stream",
     "text": [
      "Email Matches : 1\n"
     ]
    }
   ],
   "source": [
    "email_list = \"db@aol.com m@.com @apple.com db@.com\"\n",
    "print(\"Email Matches :\", len(re.findall(\"[\\w._%+-]{1,20}@[\\w.-]{2,20}.[A-Za-z]{2,3}\", email_list)))"
   ]
  }
 ],
 "metadata": {
  "kernelspec": {
   "display_name": "Python 3",
   "language": "python",
   "name": "python3"
  },
  "language_info": {
   "codemirror_mode": {
    "name": "ipython",
    "version": 3
   },
   "file_extension": ".py",
   "mimetype": "text/x-python",
   "name": "python",
   "nbconvert_exporter": "python",
   "pygments_lexer": "ipython3",
   "version": "3.13.1"
  }
 },
 "nbformat": 4,
 "nbformat_minor": 2
}
