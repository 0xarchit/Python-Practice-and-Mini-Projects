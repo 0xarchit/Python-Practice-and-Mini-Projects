{
 "cells": [
  {
   "cell_type": "code",
   "execution_count": null,
   "metadata": {},
   "outputs": [],
   "source": [
    "'''\n",
    "[]\tA set of characters\t\"[a-m]\"\t\n",
    "\\\tSignals a special sequence (can also be used to escape special characters)\t\"\\d\"\t\n",
    ".\tAny character (except newline character)\t\"he..o\"\t\n",
    "^\tStarts with\t\"^hello\"\t\n",
    "$\tEnds with\t\"planet$\"\t\n",
    "*\tZero or more occurrences\t\"he.*o\"\t\n",
    "+\tOne or more occurrences\t\"he.+o\"\t\n",
    "?\tZero or one occurrences\t\"he.?o\"\t\n",
    "{}\tExactly the specified number of occurrences\t\"he.{2}o\"\t\n",
    "|\tEither or\t\"falls|stays\"\t\n",
    "()\tCapture and group\n",
    "\n",
    "Expressions &\tExplanations\n",
    "\\w \n",
    "Matches alphanumeric characters, that is a-z, A-Z, 0-9, and underscore(_)\n",
    "\\W\n",
    "Matches non-alphanumeric characters, that is except a-z, A-Z, 0-9 and _\n",
    "\\d\n",
    "Matches digits, from 0-9.\n",
    "\\D \n",
    "Matches any non-digits.\n",
    "\\s\n",
    "Matches whitespace characters, which also include the \\t, \\n, \\r, and space characters.\n",
    "\\S\n",
    "Matches non-whitespace characters.\n",
    "\\A\n",
    "Matches the expression to its right at the absolute start of a string whether in single or multi-line mode.\n",
    "\\Z \n",
    "Matches the expression to its left at the absolute end of a string whether in single or multi-line mode.\n",
    "\\n\n",
    "Matches a newline character\n",
    "\\t\n",
    "Matches tab character\n",
    "\\b\n",
    "Matches the word boundary (or empty string) at the start and end of a word.\n",
    "\\B\n",
    "Matches where \\b does not, that is, non-word boundary\n",
    "'''"
   ]
  },
  {
   "cell_type": "code",
   "execution_count": 1,
   "metadata": {},
   "outputs": [],
   "source": [
    "import re\n",
    "import warnings\n",
    "warnings.filterwarnings(\"ignore\")\n",
    "from functools import reduce"
   ]
  },
  {
   "cell_type": "code",
   "execution_count": 2,
   "metadata": {},
   "outputs": [
    {
     "name": "stdout",
     "output_type": "stream",
     "text": [
      "Found a match\n"
     ]
    }
   ],
   "source": [
    "if re.search(\"ape\", \"The ape was at the apex\"):\n",
    "    print(\"Found a match\")"
   ]
  },
  {
   "cell_type": "code",
   "execution_count": 5,
   "metadata": {},
   "outputs": [
    {
     "name": "stdout",
     "output_type": "stream",
     "text": [
      "ape\n",
      "ape\n"
     ]
    }
   ],
   "source": [
    "all_apes = re.findall(\"ape\", \"The ape was at the apex\")\n",
    "for i in all_apes:\n",
    "    print(i)"
   ]
  },
  {
   "cell_type": "code",
   "execution_count": 6,
   "metadata": {},
   "outputs": [
    {
     "name": "stdout",
     "output_type": "stream",
     "text": [
      "(4, 8)\n",
      "ape \n",
      "(19, 23)\n",
      "apex\n"
     ]
    }
   ],
   "source": [
    "the_str = \"The ape was at the apex\"\n",
    "for i in re.finditer(\"ape.\", the_str):\n",
    "    loc_tup = i.span() # return a tuple of start and end positions\n",
    "    print(loc_tup)\n",
    "    print(the_str[loc_tup[0]:loc_tup[1]])"
   ]
  },
  {
   "cell_type": "code",
   "execution_count": 8,
   "metadata": {},
   "outputs": [
    {
     "name": "stdout",
     "output_type": "stream",
     "text": [
      "rat\n",
      "mat\n",
      "fat\n",
      "pat\n"
     ]
    }
   ],
   "source": [
    "animal_str = \"Cat rat mat fat pat\"\n",
    "all_animals = re.findall(\"[crmfp]at\", animal_str)\n",
    "for i in all_animals:\n",
    "    print(i)"
   ]
  },
  {
   "cell_type": "code",
   "execution_count": 9,
   "metadata": {},
   "outputs": [
    {
     "name": "stdout",
     "output_type": "stream",
     "text": [
      "Cat\n",
      "mat\n",
      "fat\n"
     ]
    }
   ],
   "source": [
    "some_animals = re.findall(\"[c-mC-M]at\", animal_str)\n",
    "for i in some_animals:\n",
    "    print(i)"
   ]
  },
  {
   "cell_type": "code",
   "execution_count": 10,
   "metadata": {},
   "outputs": [
    {
     "name": "stdout",
     "output_type": "stream",
     "text": [
      "mat\n",
      "fat\n",
      "pat\n"
     ]
    }
   ],
   "source": [
    "all_animals = re.findall(\"[^Cr]at\", animal_str) # Find all animals that are not cats or rats\n",
    "for i in all_animals:\n",
    "    print(i)"
   ]
  },
  {
   "cell_type": "code",
   "execution_count": 13,
   "metadata": {},
   "outputs": [
    {
     "name": "stdout",
     "output_type": "stream",
     "text": [
      "rat owl owl pat\n"
     ]
    }
   ],
   "source": [
    "owl_food = \"rat cat mat pat\"\n",
    "regex = re.compile(\"[cm]at\")\n",
    "owl_food = regex.sub(\"owl\", owl_food)\n",
    "print(owl_food) "
   ]
  },
  {
   "cell_type": "code",
   "execution_count": 17,
   "metadata": {},
   "outputs": [
    {
     "name": "stdout",
     "output_type": "stream",
     "text": [
      "Find \\stuff:  <re.Match object; span=(8, 14), match='\\\\stuff'>\n"
     ]
    }
   ],
   "source": [
    "rand_str = \"Here is \\\\stuff\"\n",
    "# print(\"Find \\\\stuff: \", re.search(\"\\\\\\\\stuff\", rand_str))\n",
    "\n",
    "print(\"Find \\\\stuff: \", re.search(r\"\\\\stuff\", rand_str))"
   ]
  },
  {
   "cell_type": "code",
   "execution_count": 2,
   "metadata": {},
   "outputs": [
    {
     "name": "stdout",
     "output_type": "stream",
     "text": [
      "['F.B.I', 'I.R.S']\n"
     ]
    }
   ],
   "source": [
    "rnd_str = \"F.B.I. I.R.S. CIA\"\n",
    "print(re.findall(r\".\\..\\..\", rnd_str))"
   ]
  },
  {
   "cell_type": "code",
   "execution_count": 8,
   "metadata": {},
   "outputs": [
    {
     "name": "stdout",
     "output_type": "stream",
     "text": [
      "This is a\n",
      "long string\n",
      "of 3 lines\n",
      "This is a  long string  of 3 lines\n"
     ]
    }
   ],
   "source": [
    "rand_str = '''This is a\n",
    "long string\n",
    "of 3 lines'''\n",
    "\n",
    "print(rand_str)\n",
    "regex = re.compile(\"\\n\")\n",
    "rand_str = regex.sub(\"  \", rand_str)\n",
    "print(rand_str)\n",
    "\n",
    "# \\b \\f \\r \\t \\v \\r\\n"
   ]
  },
  {
   "cell_type": "code",
   "execution_count": 11,
   "metadata": {},
   "outputs": [
    {
     "name": "stdout",
     "output_type": "stream",
     "text": [
      "Matches : 5\n"
     ]
    }
   ],
   "source": [
    "rnd_str = \"12345\"\n",
    "print(\"Matches :\", len(re.findall(\"\\d\", rnd_str)))"
   ]
  },
  {
   "cell_type": "code",
   "execution_count": 12,
   "metadata": {},
   "outputs": [
    {
     "name": "stdout",
     "output_type": "stream",
     "text": [
      "It is zip code\n"
     ]
    }
   ],
   "source": [
    "rnd_str = \"12345\"\n",
    "if re.search(\"\\d{5}\", rnd_str):\n",
    "    print(\"It is zip code\")"
   ]
  },
  {
   "cell_type": "code",
   "execution_count": 15,
   "metadata": {},
   "outputs": [
    {
     "name": "stdout",
     "output_type": "stream",
     "text": [
      "Matches:  3\n"
     ]
    }
   ],
   "source": [
    "rnd = \"123 12345 123456 1234567\"\n",
    "print(\"Matches: \", len(re.findall(\"\\d{5,7}\", rnd)))"
   ]
  },
  {
   "cell_type": "code",
   "execution_count": 13,
   "metadata": {},
   "outputs": [
    {
     "name": "stdout",
     "output_type": "stream",
     "text": [
      "Valid phone number found: 123-555-1234\n",
      "Valid phone number found: 456.555.4321\n",
      "Valid phone number found: (789)555-9876\n",
      "123-555-1234 is a valid phone number format\n"
     ]
    }
   ],
   "source": [
    "phone_str = \"123-555-1234, 456.555.4321, (789)555-9876\"\n",
    "\n",
    "phone_pattern = re.compile(r\"(\\d{3}[-\\.]\\d{3}[-\\.]\\d{4}|\\(\\d{3}\\)\\d{3}[-\\.]\\d{4})\")\n",
    "phone_numbers = phone_pattern.findall(phone_str)\n",
    "\n",
    "for number in phone_numbers:\n",
    "    print(f\"Valid phone number found: {number}\")\n",
    "\n",
    "test_number = \"123-555-1234\"\n",
    "if phone_pattern.match(test_number):\n",
    "    print(f\"{test_number} is a valid phone number format\")"
   ]
  },
  {
   "cell_type": "code",
   "execution_count": 18,
   "metadata": {},
   "outputs": [
    {
     "name": "stdout",
     "output_type": "stream",
     "text": [
      "Phone number is valid\n",
      "Name is valid\n"
     ]
    }
   ],
   "source": [
    "ph = \"123-1234-123\"\n",
    "if re.search(\"\\w{3}-\\w{4}-\\w{3}\", ph):\n",
    "    print(\"Phone number is valid\")\n",
    "if re.search(\"\\w{2,20}\", \"0xArchit\"):\n",
    "    print(\"Name is valid\")"
   ]
  },
  {
   "cell_type": "code",
   "execution_count": 22,
   "metadata": {},
   "outputs": [
    {
     "name": "stdout",
     "output_type": "stream",
     "text": [
      "Match found\n"
     ]
    }
   ],
   "source": [
    "if re.search(\"\\w{2,20}\\s\\w{2,20}\\s\\w{2,10}\\s\\w{2,5}\", \"0xarchit AkA Archit Jain\"):\n",
    "    print(\"Match found\")"
   ]
  },
  {
   "cell_type": "code",
   "execution_count": 26,
   "metadata": {},
   "outputs": [
    {
     "name": "stdout",
     "output_type": "stream",
     "text": [
      "Matches:  3\n"
     ]
    }
   ],
   "source": [
    "print(\"Matches: \", len(re.findall(\"a+\", \"a as has bug\")))"
   ]
  },
  {
   "cell_type": "code",
   "execution_count": 11,
   "metadata": {},
   "outputs": [
    {
     "name": "stdout",
     "output_type": "stream",
     "text": [
      "Email Matches : 1\n"
     ]
    }
   ],
   "source": [
    "email_list = \"db@aol.com m@.com @apple.com db@.com\"\n",
    "print(\"Email Matches :\", len(re.findall(\"[\\w._%+-]{1,20}@[\\w.-]{2,20}.[A-Za-z]{2,3}\", email_list)))"
   ]
  },
  {
   "cell_type": "code",
   "execution_count": 5,
   "metadata": {},
   "outputs": [
    {
     "name": "stdout",
     "output_type": "stream",
     "text": [
      "['cat', 'cats']\n"
     ]
    }
   ],
   "source": [
    "rnd = \"cat cats\"\n",
    "regex = re.compile(\"[cat]+s?\")\n",
    "print(re.findall(regex, rnd))"
   ]
  },
  {
   "cell_type": "code",
   "execution_count": 9,
   "metadata": {},
   "outputs": [
    {
     "name": "stdout",
     "output_type": "stream",
     "text": [
      "['doctor', 'doctors', \"doctor's\"]\n"
     ]
    }
   ],
   "source": [
    "rnd = \"doctor doctors doctor's\"\n",
    "# regex = re.compile(\"[doctor]+\\\\'?+s?\")\n",
    "regex = re.compile(\"[doctor]+['s]*\") # or use {0,2} in place of *\n",
    "print(re.findall(regex, rnd))"
   ]
  },
  {
   "cell_type": "code",
   "execution_count": 15,
   "metadata": {},
   "outputs": [
    {
     "name": "stdout",
     "output_type": "stream",
     "text": [
      "Matches: , 1\n",
      "['Just some\\nwords for \\r\\n']\n"
     ]
    }
   ],
   "source": [
    "long = '''Just some\n",
    "words for \\r\n",
    "long string'''\n",
    "\n",
    "print(f'Matches: , {len(re.findall(r\"[\\w\\s]+[\\r]?\\n\", long))}\\n{re.findall(r\"[\\w\\s]+[\\r]?\\n\", long)}')"
   ]
  },
  {
   "cell_type": "code",
   "execution_count": 20,
   "metadata": {},
   "outputs": [
    {
     "name": "stdout",
     "output_type": "stream",
     "text": [
      "<name>Life on Mars</name> <name>Freaks and Greeks</name>\n"
     ]
    }
   ],
   "source": [
    "# Greedy and lazy matching\n",
    "\n",
    "rnd = \"<name>Life on Mars</name><name>Freaks and Greeks</name>\"\n",
    "# regex = re.compile(r\"<name>.*</name>\")\n",
    "regex = re.compile(r\"<name>.*?</name>\")\n",
    "# regex = re.compile(r\"<name>.+?</name>\")\n",
    "print(*re.findall(regex, rnd))"
   ]
  },
  {
   "cell_type": "code",
   "execution_count": 3,
   "metadata": {},
   "outputs": [
    {
     "name": "stdout",
     "output_type": "stream",
     "text": [
      "ape ape\n",
      "ape\n"
     ]
    }
   ],
   "source": [
    "rand_str = \"ape at the apex\"\n",
    "regex = re.compile(r\"ape\")\n",
    "regex2 = re.compile(r\"\\bape\\b\")\n",
    "print(*re.findall(regex, rand_str))\n",
    "print(*re.findall(regex2, rand_str))"
   ]
  },
  {
   "cell_type": "code",
   "execution_count": 10,
   "metadata": {},
   "outputs": [
    {
     "name": "stdout",
     "output_type": "stream",
     "text": [
      "Ape  Turtle  Cheetah \n"
     ]
    }
   ],
   "source": [
    "# rnd = \"match everything up to @\"\n",
    "# rnd = \"@ get this string\"\n",
    "rnd = '''Ape is big\n",
    "Turtle is slow\n",
    "Cheetah is fast'''\n",
    "# regex = re.compile(r\"^.*[^@]\")\n",
    "# regex = re.compile(r\"[^@\\s].*$\")\n",
    "regex = re.compile(r\"(?m)^.*?\\s\")\n",
    "print(*re.findall(regex, rnd))"
   ]
  },
  {
   "cell_type": "code",
   "execution_count": 11,
   "metadata": {},
   "outputs": [
    {
     "name": "stdout",
     "output_type": "stream",
     "text": [
      "654-3210\n"
     ]
    }
   ],
   "source": [
    "rnd = 'Phone number of someone 987-654-3210'\n",
    "regex = re.compile(r\"987-(.*)\")\n",
    "print(*re.findall(regex, rnd))"
   ]
  },
  {
   "cell_type": "code",
   "execution_count": 13,
   "metadata": {},
   "outputs": [
    {
     "name": "stdout",
     "output_type": "stream",
     "text": [
      "654-3210 123-4567 567-1234\n"
     ]
    }
   ],
   "source": [
    "rnd = '987-654-3210 987-123-4567 987-567-1234'\n",
    "regex = re.compile(r\"987-(.{8})\")\n",
    "print(*re.findall(regex, rnd))"
   ]
  },
  {
   "cell_type": "code",
   "execution_count": 14,
   "metadata": {},
   "outputs": [
    {
     "name": "stdout",
     "output_type": "stream",
     "text": [
      "('654', '3210')\n"
     ]
    }
   ],
   "source": [
    "rnd = '987-654-3210'\n",
    "regex = re.compile(r\"987-(.*)-(.*)\")\n",
    "print(*re.findall(regex, rnd))"
   ]
  },
  {
   "cell_type": "code",
   "execution_count": 17,
   "metadata": {},
   "outputs": [
    {
     "name": "stdout",
     "output_type": "stream",
     "text": [
      "['cat']\n"
     ]
    }
   ],
   "source": [
    "rnd_str = \"The cat cat fell out the window\"\n",
    "regex = re.compile(r\"(\\b\\w+)\\s+\\1\")\n",
    "print(re.findall(regex, rnd_str))"
   ]
  },
  {
   "cell_type": "code",
   "execution_count": null,
   "metadata": {},
   "outputs": [],
   "source": [
    "# Did you find a match\n",
    " # if re.search(\"REGEX\", my_string)\n",
    " # Get list of matches\n",
    " # print(\"Matches :\", len(re.findall(\"REGEX\", my_string)))\n",
    " # Get a pattern object\n",
    " # regex = re.compile(\"REGEX\")\n",
    " # Substitute the match\n",
    " # my_string = regex.sub(\"substitution\", my_string)\n",
    " # [ ]   : Match what is in the brackets\n",
    " # [^ ]  : Match anything not in the brackets\n",
    " # ( )   : Return surrounded submatch\n",
    " # .     : Match any 1 character or space\n",
    " # +     : Match 1 or more of what proceeds\n",
    " # ?     : Match 0 or 1\n",
    " # *     : Match 0 or More\n",
    " # *?    : Lazy match the smallest match\n",
    " # \\b    : Word boundary\n",
    " # ^     : Beginning of String\n",
    " # $     : End of String\n",
    " # \\n    : Newline\n",
    " # \\d    : Any 1 number\n",
    " # \\D    : Anything but a number\n",
    " # \\w    : Same as [a-zA-Z0-9_]\n",
    " # \\W    : Same as [^a-zA-Z0-9_]\n",
    " # \\s    : Same as [\\f\\n\\r\\t\\v]\n",
    " # \\S    : Same as [^\\f\\n\\r\\t\\v]\n",
    " # {5}   : Match 5 of what proceeds the curly brackets\n",
    " # {5,7} : Match values that are between 5 and 7 in length\n",
    " # ($m)  : Allow ^ on multiline string"
   ]
  },
  {
   "cell_type": "code",
   "execution_count": 20,
   "metadata": {},
   "outputs": [
    {
     "name": "stdout",
     "output_type": "stream",
     "text": [
      "<a href='#'>The Link</a>\n"
     ]
    }
   ],
   "source": [
    "rnd_str = \"<a href='#'><b>The Link</b></a>\"\n",
    "regex = re.compile(r\"<b>(.*?)</b>\")\n",
    "rnd_str = re.sub(regex, r\"\\1\", rnd_str)\n",
    "\n",
    "print(rnd_str)"
   ]
  },
  {
   "cell_type": "code",
   "execution_count": 27,
   "metadata": {},
   "outputs": [
    {
     "name": "stdout",
     "output_type": "stream",
     "text": [
      "(412)555-1212\n"
     ]
    }
   ],
   "source": [
    "rnd_str = \"412-555-1212\"\n",
    "regex = re.compile(r\"([\\d]{3})-([\\d]{3})-([\\d]{4})\")\n",
    "# (412)555-1212\n",
    "rnd_str = re.sub(regex, r\"(\\1)\\2-\\3\", rnd_str)\n",
    "\n",
    "print(rnd_str)"
   ]
  },
  {
   "cell_type": "code",
   "execution_count": 28,
   "metadata": {},
   "outputs": [
    {
     "name": "stdout",
     "output_type": "stream",
     "text": [
      "(412)555-1212\n"
     ]
    }
   ],
   "source": [
    "rand_str = \"412-555-1212\"\n",
    "regex = re.compile(r\"([\\d]{3})-([\\d]{3}-[\\d]{4})\")\n",
    "rand_str = re.sub(regex, r\"(\\1)\\2\", rand_str)\n",
    "print(rand_str)"
   ]
  },
  {
   "cell_type": "code",
   "execution_count": 32,
   "metadata": {},
   "outputs": [
    {
     "name": "stdout",
     "output_type": "stream",
     "text": [
      "<a href='https://www.youtube.com'>www.youtube.com</a>\n",
      " <a href='http://www.google.com'>www.google.com</a>\n",
      "\n"
     ]
    }
   ],
   "source": [
    "rand_str = \"https://www.youtube.com http://www.google.com\"\n",
    "# out:\n",
    "# <a href='https://www.youtube.com'>www.youtube.com</a>\n",
    "#  <a href='https://www.google.com'>www.google.com</a>\n",
    "\n",
    "regex = re.compile(r\"(https?://([\\w.]+))\")\n",
    "rnd = re.sub(regex, r\"<a href='\\1'>\\2</a>\\n\", rand_str)\n",
    "\n",
    "print(rnd)\n"
   ]
  },
  {
   "cell_type": "code",
   "execution_count": 34,
   "metadata": {},
   "outputs": [
    {
     "name": "stdout",
     "output_type": "stream",
     "text": [
      "one two three four\n"
     ]
    }
   ],
   "source": [
    "rand_str = \"one two three four\"\n",
    "regex = re.compile(r\"\\w+(?=\\b)\")\n",
    "matches = re.findall(regex, rand_str)\n",
    "print(*matches)"
   ]
  },
  {
   "cell_type": "code",
   "execution_count": 36,
   "metadata": {},
   "outputs": [
    {
     "name": "stdout",
     "output_type": "stream",
     "text": [
      "Bread\n",
      "Apples\n",
      "Lettuce\n"
     ]
    }
   ],
   "source": [
    "rand_str = \"1. Bread 2. Apples 3. Lettuce\"\n",
    "regex = re.compile(r\"(?<=\\d.\\s)\\w+\")\n",
    "matches = re.findall(regex, rand_str)\n",
    "for i in matches:\n",
    "    print(i)"
   ]
  },
  {
   "cell_type": "code",
   "execution_count": 37,
   "metadata": {},
   "outputs": [
    {
     "name": "stdout",
     "output_type": "stream",
     "text": [
      "I'm Important\n",
      "So am I\n"
     ]
    }
   ],
   "source": [
    "rand_str = \"<h1>I'm Important</h1> <h1>So am I</h1>\"\n",
    "regex = re.compile(r\"(?<=<h1>).+?(?=</h1>)\")\n",
    "matches = re.findall(regex, rand_str)\n",
    "for i in matches:\n",
    "    print(i)"
   ]
  },
  {
   "cell_type": "code",
   "execution_count": 40,
   "metadata": {},
   "outputs": [
    {
     "name": "stdout",
     "output_type": "stream",
     "text": [
      "3\n",
      "Total Items 10\n"
     ]
    }
   ],
   "source": [
    "rand_str = \"8 Apples $3, 1 Bread $1, 1 Cereal $4\"\n",
    "regex = re.compile(r\"(?<!\\$)\\d+\")\n",
    "matches = re.findall(regex, rand_str)\n",
    "print(len(matches))\n",
    "matches = [int(i) for i in matches]\n",
    "print(\"Total Items {}\".format(reduce((lambda x, y: x + y), matches)))"
   ]
  },
  {
   "cell_type": "code",
   "execution_count": null,
   "metadata": {},
   "outputs": [],
   "source": [
    "# [ ]   : Match what is in the brackets\n",
    " # [^ ]  : Match anything not in the brackets\n",
    " # ( )   : Return surrounded submatch\n",
    " # .     : Match any 1 character or space\n",
    " # +     : Match 1 or more of what proceeds\n",
    " # ?     : Match 0 or 1\n",
    " # *     : Match 0 or More\n",
    " # *?    : Lazy match the smallest match\n",
    " # \\b    : Word boundary\n",
    " # ^     : Beginning of String\n",
    " # $     : End of String\n",
    " # \\n    : Newline\n",
    " # \\d    : Any 1 number\n",
    " # \\D    : Anything but a number\n",
    " # \\w    : Same as [a-zA-Z0-9_]\n",
    " # \\W    : Same as [^a-zA-Z0-9_]\n",
    " # \\s    : Same as [\\f\\n\\r\\t\\v]\n",
    " # \\S    : Same as [^\\f\\n\\r\\t\\v]\n",
    " # {5}   : Match 5 of what proceeds the curly brackets\n",
    " # {5,7} : Match values that are between 5 and 7 in length\n",
    " # ($m)  : Allow ^ on multiline string\n",
    " # Use a back reference to substitute what is between the\n",
    " # bold tags and eliminate the bold tags\n",
    " # re.sub(r\"<b>(.*?)</b>\", r\"\\1\", randStr)\n",
    " # Use a look ahead to find all characters of 1 or more\n",
    " # with a word boundary, but don't return the word\n",
    " # boundary\n",
    " # re.findall(r\"\\w+(?=\\b)\", randStr)\n",
    " # Use a look behind to find words starting with a number,\n",
    " # period and space, but only return the word that follows\n",
    " # re.findall(r\"(?<=\\d.\\s)\\w+\", randStr)\n",
    " # Use a negative look behind to only return numbers without\n",
    " # a $ in front of them\n",
    " # re.findall(r\"(?<!\\$)\\d+\", randStr)"
   ]
  },
  {
   "cell_type": "code",
   "execution_count": 2,
   "metadata": {},
   "outputs": [
    {
     "name": "stdout",
     "output_type": "stream",
     "text": [
      "Dog Cat\n"
     ]
    }
   ],
   "source": [
    "rnd_str = \"1. Dog 2. Cat 3. Turtle\"\n",
    "regex = re.compile(r\"\\d\\.\\s(Dog|Cat)\")\n",
    "print(*re.findall(regex, rnd_str))"
   ]
  },
  {
   "cell_type": "code",
   "execution_count": 7,
   "metadata": {},
   "outputs": [
    {
     "name": "stdout",
     "output_type": "stream",
     "text": [
      "12345-1234 12346-333\n"
     ]
    }
   ],
   "source": [
    "rnd = \"1234 12345-1234 1234 12346-333\"\n",
    "regex = re.compile(r\"(\\d{5}-\\d{3,4})\")\n",
    "print(*re.findall(regex, rnd))"
   ]
  },
  {
   "cell_type": "code",
   "execution_count": 16,
   "metadata": {},
   "outputs": [
    {
     "name": "stdout",
     "output_type": "stream",
     "text": [
      "You were born on 12-12-12\n",
      "Birth Month 12\n",
      "Birth Day 12\n",
      "Birth Year 12\n"
     ]
    }
   ],
   "source": [
    "bd = input(\"Enter your birthday (mm-dd-yyyy) : \")\n",
    "bd_regex = re.search(r\"(\\d{1,2})-(\\d{1,2})-(\\d{1,4})\", bd)\n",
    "print(\"You were born on\", bd_regex.group())\n",
    "print(\"Birth Month\", bd_regex.group(1))\n",
    "print(\"Birth Day\", bd_regex.group(2))\n",
    "print(\"Birth Year\", bd_regex.group(3))"
   ]
  },
  {
   "cell_type": "code",
   "execution_count": 17,
   "metadata": {},
   "outputs": [
    {
     "name": "stdout",
     "output_type": "stream",
     "text": [
      "Match : 13\n",
      "Span : (20, 22)\n",
      "Match : 20\n",
      "Match : 22\n"
     ]
    }
   ],
   "source": [
    "match = re.search(r\"\\d{2}\", \"The chicken weighed 13 lbs\")\n",
    "print(\"Match :\", match.group())\n",
    "print(\"Span :\", match.span())\n",
    "print(\"Match :\", match.start())\n",
    "print(\"Match :\", match.end())"
   ]
  },
  {
   "cell_type": "code",
   "execution_count": 19,
   "metadata": {},
   "outputs": [
    {
     "name": "stdout",
     "output_type": "stream",
     "text": [
      "Month : December\n",
      "Day : 69\n",
      "Year : 2069\n"
     ]
    }
   ],
   "source": [
    "# named group\n",
    "\n",
    "rand_str = \"December 69 2069\"\n",
    "regex = r\"^(?P<month>\\w+)\\s(?P<day>\\d+)\\s(?P<year>\\d+)\"\n",
    "matches = re.search(regex, rand_str)\n",
    "print(\"Month :\", matches.group('month'))\n",
    "print(\"Day :\", matches.group('day'))\n",
    "print(\"Year :\", matches.group('year'))"
   ]
  },
  {
   "cell_type": "code",
   "execution_count": 23,
   "metadata": {},
   "outputs": [
    {
     "name": "stdout",
     "output_type": "stream",
     "text": [
      "3\n",
      "d+b@aol.com a_1@yahoo.co.uk A-100@m-b.INTERNATIONAL\n"
     ]
    }
   ],
   "source": [
    "rand_str = \"d+b@aol.com a_1@yahoo.co.uk A-100@m-b.INTERNATIONAL\"\n",
    "regex = re.compile(r\"[a-zA-Z0-9_.+-]+@[a-zA-Z0-9-]+\\.[a-zA-Z0-9-.]+\")\n",
    "matches = re.findall(regex, rand_str)\n",
    "print(len(matches))\n",
    "print(*matches)"
   ]
  },
  {
   "cell_type": "code",
   "execution_count": 28,
   "metadata": {},
   "outputs": [
    {
     "name": "stdout",
     "output_type": "stream",
     "text": [
      "6\n",
      "14125551212\n",
      "4125551212\n",
      "(412)5551212\n",
      "412 555 1212\n",
      "412-555-1212\n",
      "1-412-555-1212\n"
     ]
    }
   ],
   "source": [
    "rand_str = \"14125551212 4125551212 (412)5551212 412 555 1212 412-555-1212 1-412-555-1212\"\n",
    "regex = re.compile(r\"((1?)(-| ?)(\\()?(\\d{3})(\\)|-| |\\)-|\\) )?(\\d{3})(-| )?(\\d{4}|\\d{4}))\")\n",
    "matches = re.findall(regex, rand_str)\n",
    "print(len(matches))\n",
    "for i in matches:\n",
    "    print(i[0].lstrip())"
   ]
  }
 ],
 "metadata": {
  "kernelspec": {
   "display_name": "Python 3",
   "language": "python",
   "name": "python3"
  },
  "language_info": {
   "codemirror_mode": {
    "name": "ipython",
    "version": 3
   },
   "file_extension": ".py",
   "mimetype": "text/x-python",
   "name": "python",
   "nbconvert_exporter": "python",
   "pygments_lexer": "ipython3",
   "version": "3.13.1"
  }
 },
 "nbformat": 4,
 "nbformat_minor": 2
}
