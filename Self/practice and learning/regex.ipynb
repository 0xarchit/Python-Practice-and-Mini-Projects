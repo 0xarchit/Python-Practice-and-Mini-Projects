{
 "cells": [
  {
   "cell_type": "code",
   "execution_count": 1,
   "metadata": {},
   "outputs": [],
   "source": [
    "import re"
   ]
  },
  {
   "cell_type": "code",
   "execution_count": 2,
   "metadata": {},
   "outputs": [
    {
     "name": "stdout",
     "output_type": "stream",
     "text": [
      "Found a match\n"
     ]
    }
   ],
   "source": [
    "if re.search(\"ape\", \"The ape was at the apex\"):\n",
    "    print(\"Found a match\")"
   ]
  },
  {
   "cell_type": "code",
   "execution_count": 5,
   "metadata": {},
   "outputs": [
    {
     "name": "stdout",
     "output_type": "stream",
     "text": [
      "ape\n",
      "ape\n"
     ]
    }
   ],
   "source": [
    "all_apes = re.findall(\"ape\", \"The ape was at the apex\")\n",
    "for i in all_apes:\n",
    "    print(i)"
   ]
  },
  {
   "cell_type": "code",
   "execution_count": 6,
   "metadata": {},
   "outputs": [
    {
     "name": "stdout",
     "output_type": "stream",
     "text": [
      "(4, 8)\n",
      "ape \n",
      "(19, 23)\n",
      "apex\n"
     ]
    }
   ],
   "source": [
    "the_str = \"The ape was at the apex\"\n",
    "for i in re.finditer(\"ape.\", the_str):\n",
    "    loc_tup = i.span() # return a tuple of start and end positions\n",
    "    print(loc_tup)\n",
    "    print(the_str[loc_tup[0]:loc_tup[1]])"
   ]
  },
  {
   "cell_type": "code",
   "execution_count": 8,
   "metadata": {},
   "outputs": [
    {
     "name": "stdout",
     "output_type": "stream",
     "text": [
      "rat\n",
      "mat\n",
      "fat\n",
      "pat\n"
     ]
    }
   ],
   "source": [
    "animal_str = \"Cat rat mat fat pat\"\n",
    "all_animals = re.findall(\"[crmfp]at\", animal_str)\n",
    "for i in all_animals:\n",
    "    print(i)"
   ]
  },
  {
   "cell_type": "code",
   "execution_count": 9,
   "metadata": {},
   "outputs": [
    {
     "name": "stdout",
     "output_type": "stream",
     "text": [
      "Cat\n",
      "mat\n",
      "fat\n"
     ]
    }
   ],
   "source": [
    "some_animals = re.findall(\"[c-mC-M]at\", animal_str)\n",
    "for i in some_animals:\n",
    "    print(i)"
   ]
  },
  {
   "cell_type": "code",
   "execution_count": 10,
   "metadata": {},
   "outputs": [
    {
     "name": "stdout",
     "output_type": "stream",
     "text": [
      "mat\n",
      "fat\n",
      "pat\n"
     ]
    }
   ],
   "source": [
    "all_animals = re.findall(\"[^Cr]at\", animal_str) # Find all animals that are not cats or rats\n",
    "for i in all_animals:\n",
    "    print(i)"
   ]
  },
  {
   "cell_type": "code",
   "execution_count": 13,
   "metadata": {},
   "outputs": [
    {
     "name": "stdout",
     "output_type": "stream",
     "text": [
      "rat owl owl pat\n"
     ]
    }
   ],
   "source": [
    "owl_food = \"rat cat mat pat\"\n",
    "regex = re.compile(\"[cm]at\")\n",
    "owl_food = regex.sub(\"owl\", owl_food)\n",
    "print(owl_food) "
   ]
  },
  {
   "cell_type": "code",
   "execution_count": 17,
   "metadata": {},
   "outputs": [
    {
     "name": "stdout",
     "output_type": "stream",
     "text": [
      "Find \\stuff:  <re.Match object; span=(8, 14), match='\\\\stuff'>\n"
     ]
    }
   ],
   "source": [
    "rand_str = \"Here is \\\\stuff\"\n",
    "# print(\"Find \\\\stuff: \", re.search(\"\\\\\\\\stuff\", rand_str))\n",
    "\n",
    "print(\"Find \\\\stuff: \", re.search(r\"\\\\stuff\", rand_str))"
   ]
  }
 ],
 "metadata": {
  "kernelspec": {
   "display_name": "Python 3",
   "language": "python",
   "name": "python3"
  },
  "language_info": {
   "codemirror_mode": {
    "name": "ipython",
    "version": 3
   },
   "file_extension": ".py",
   "mimetype": "text/x-python",
   "name": "python",
   "nbconvert_exporter": "python",
   "pygments_lexer": "ipython3",
   "version": "3.13.1"
  }
 },
 "nbformat": 4,
 "nbformat_minor": 2
}
